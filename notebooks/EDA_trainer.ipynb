{
 "cells": [
  {
   "attachments": {},
   "cell_type": "markdown",
   "metadata": {},
   "source": [
    "# Mushroom Classifier \n",
    "### Full end-to-end Data Science Project"
   ]
  },
  {
   "attachments": {},
   "cell_type": "markdown",
   "metadata": {},
   "source": [
    "### Dataset link : https://www.kaggle.com/uciml/mushroom-classification"
   ]
  },
  {
   "attachments": {},
   "cell_type": "markdown",
   "metadata": {},
   "source": [
    "## Project Details & Goal:\n",
    "\n",
    "### Details: Different species of mushrooms are label with 23 different features, which classifies mushroom been edible or poisonous. \n",
    "\n",
    "### Goal: To create a model, which is able to predict mushroom been edible or poisonous on the base of other 22 features."
   ]
  },
  {
   "attachments": {},
   "cell_type": "markdown",
   "metadata": {},
   "source": [
    "## Project Procedure & Steps\n",
    "\n",
    "#### The main to create model which is able to predict mushroom been edible or poisonous, so the steps which will be involved are:\n",
    "\n",
    "\n",
    "##### EDA Process\n",
    "1. Importing Libraries -> For carying out visuzalization, data cleaning etc.\n",
    "\n",
    "2. Loading Data -> Reading out data from file\n",
    "\n",
    "3. Data Exploration -> To finding out the details from the data like total rows, columns, mean, deviation etc.\n",
    "\n",
    "4. Data cleaning -> Handling missing values, removing duplicates with to make data ready for suitable analysis\n",
    "\n",
    "5. Data Preprocessing -> To transform variables, encode for the further analysis.\n",
    "\n",
    "6. Univariate & Multivariant Analysis -> Analysis each features individualy & Analysis 1 feature with other feature to identify the relationship between them.\n",
    "\n",
    "7. Vizualization -> Create a meaniful vizualization with chart to get insights of the data.\n",
    "\n",
    "8. Summary & Insights -> Insights detail report recieved from the visualization with observation which guides for the further step of data modeling.\n",
    "\n",
    "##### Model Building Process\n",
    "9. Data Transformation -> To perform preprocessing to check data is scaled dealing with imbalanced data or applying other things.\n",
    "\n",
    "10. Feature Selection -> Based on EDA insights, data should be transform, & features with likely selection should be selected.\n",
    "\n",
    "11. Data Splitting -> To split data into train & test data to become model ready for training & testing. \n",
    "\n",
    "12. Model Selection -> To select list of different models which can work for this data.\n",
    "\n",
    "13. Model Training -> Train data with different model\n",
    "\n",
    "14. Model Evaluation -> Test the model accuracy on the test data\n",
    "\n",
    "15. Model Interpretation -> Interpret the model on the results.\n",
    "\n",
    "16. Model Deployment -> Deploy the model on local server (or cloud) for the further use. \n",
    "\n",
    "\n",
    "This steps will be following for the EDA & Model Training"
   ]
  },
  {
   "attachments": {},
   "cell_type": "markdown",
   "metadata": {},
   "source": [
    "### 1. Importing Libraries"
   ]
  },
  {
   "cell_type": "code",
   "execution_count": 1,
   "metadata": {},
   "outputs": [],
   "source": [
    "import pandas as pd  #for handling dataframe\n",
    "import matplotlib.pyplot as plt #for data visuzalization\n",
    "import seaborn as sns #for data visualization\n",
    "import warnings #for hiding the warnings about future updates\n",
    "warnings.filterwarnings(\"ignore\")"
   ]
  },
  {
   "attachments": {},
   "cell_type": "markdown",
   "metadata": {},
   "source": [
    "### 2. Data Loading"
   ]
  },
  {
   "cell_type": "code",
   "execution_count": 2,
   "metadata": {},
   "outputs": [],
   "source": [
    "df = pd.read_csv(\"data/mushrooms.csv\") #lodaing data from file"
   ]
  },
  {
   "attachments": {},
   "cell_type": "markdown",
   "metadata": {},
   "source": [
    "### 3. Data Exploration"
   ]
  },
  {
   "cell_type": "code",
   "execution_count": 3,
   "metadata": {},
   "outputs": [
    {
     "data": {
      "text/html": [
       "<div>\n",
       "<style scoped>\n",
       "    .dataframe tbody tr th:only-of-type {\n",
       "        vertical-align: middle;\n",
       "    }\n",
       "\n",
       "    .dataframe tbody tr th {\n",
       "        vertical-align: top;\n",
       "    }\n",
       "\n",
       "    .dataframe thead th {\n",
       "        text-align: right;\n",
       "    }\n",
       "</style>\n",
       "<table border=\"1\" class=\"dataframe\">\n",
       "  <thead>\n",
       "    <tr style=\"text-align: right;\">\n",
       "      <th></th>\n",
       "      <th>class</th>\n",
       "      <th>cap-shape</th>\n",
       "      <th>cap-surface</th>\n",
       "      <th>cap-color</th>\n",
       "      <th>bruises</th>\n",
       "      <th>odor</th>\n",
       "      <th>gill-attachment</th>\n",
       "      <th>gill-spacing</th>\n",
       "      <th>gill-size</th>\n",
       "      <th>gill-color</th>\n",
       "      <th>...</th>\n",
       "      <th>stalk-surface-below-ring</th>\n",
       "      <th>stalk-color-above-ring</th>\n",
       "      <th>stalk-color-below-ring</th>\n",
       "      <th>veil-type</th>\n",
       "      <th>veil-color</th>\n",
       "      <th>ring-number</th>\n",
       "      <th>ring-type</th>\n",
       "      <th>spore-print-color</th>\n",
       "      <th>population</th>\n",
       "      <th>habitat</th>\n",
       "    </tr>\n",
       "  </thead>\n",
       "  <tbody>\n",
       "    <tr>\n",
       "      <th>0</th>\n",
       "      <td>p</td>\n",
       "      <td>x</td>\n",
       "      <td>s</td>\n",
       "      <td>n</td>\n",
       "      <td>t</td>\n",
       "      <td>p</td>\n",
       "      <td>f</td>\n",
       "      <td>c</td>\n",
       "      <td>n</td>\n",
       "      <td>k</td>\n",
       "      <td>...</td>\n",
       "      <td>s</td>\n",
       "      <td>w</td>\n",
       "      <td>w</td>\n",
       "      <td>p</td>\n",
       "      <td>w</td>\n",
       "      <td>o</td>\n",
       "      <td>p</td>\n",
       "      <td>k</td>\n",
       "      <td>s</td>\n",
       "      <td>u</td>\n",
       "    </tr>\n",
       "    <tr>\n",
       "      <th>1</th>\n",
       "      <td>e</td>\n",
       "      <td>x</td>\n",
       "      <td>s</td>\n",
       "      <td>y</td>\n",
       "      <td>t</td>\n",
       "      <td>a</td>\n",
       "      <td>f</td>\n",
       "      <td>c</td>\n",
       "      <td>b</td>\n",
       "      <td>k</td>\n",
       "      <td>...</td>\n",
       "      <td>s</td>\n",
       "      <td>w</td>\n",
       "      <td>w</td>\n",
       "      <td>p</td>\n",
       "      <td>w</td>\n",
       "      <td>o</td>\n",
       "      <td>p</td>\n",
       "      <td>n</td>\n",
       "      <td>n</td>\n",
       "      <td>g</td>\n",
       "    </tr>\n",
       "    <tr>\n",
       "      <th>2</th>\n",
       "      <td>e</td>\n",
       "      <td>b</td>\n",
       "      <td>s</td>\n",
       "      <td>w</td>\n",
       "      <td>t</td>\n",
       "      <td>l</td>\n",
       "      <td>f</td>\n",
       "      <td>c</td>\n",
       "      <td>b</td>\n",
       "      <td>n</td>\n",
       "      <td>...</td>\n",
       "      <td>s</td>\n",
       "      <td>w</td>\n",
       "      <td>w</td>\n",
       "      <td>p</td>\n",
       "      <td>w</td>\n",
       "      <td>o</td>\n",
       "      <td>p</td>\n",
       "      <td>n</td>\n",
       "      <td>n</td>\n",
       "      <td>m</td>\n",
       "    </tr>\n",
       "    <tr>\n",
       "      <th>3</th>\n",
       "      <td>p</td>\n",
       "      <td>x</td>\n",
       "      <td>y</td>\n",
       "      <td>w</td>\n",
       "      <td>t</td>\n",
       "      <td>p</td>\n",
       "      <td>f</td>\n",
       "      <td>c</td>\n",
       "      <td>n</td>\n",
       "      <td>n</td>\n",
       "      <td>...</td>\n",
       "      <td>s</td>\n",
       "      <td>w</td>\n",
       "      <td>w</td>\n",
       "      <td>p</td>\n",
       "      <td>w</td>\n",
       "      <td>o</td>\n",
       "      <td>p</td>\n",
       "      <td>k</td>\n",
       "      <td>s</td>\n",
       "      <td>u</td>\n",
       "    </tr>\n",
       "    <tr>\n",
       "      <th>4</th>\n",
       "      <td>e</td>\n",
       "      <td>x</td>\n",
       "      <td>s</td>\n",
       "      <td>g</td>\n",
       "      <td>f</td>\n",
       "      <td>n</td>\n",
       "      <td>f</td>\n",
       "      <td>w</td>\n",
       "      <td>b</td>\n",
       "      <td>k</td>\n",
       "      <td>...</td>\n",
       "      <td>s</td>\n",
       "      <td>w</td>\n",
       "      <td>w</td>\n",
       "      <td>p</td>\n",
       "      <td>w</td>\n",
       "      <td>o</td>\n",
       "      <td>e</td>\n",
       "      <td>n</td>\n",
       "      <td>a</td>\n",
       "      <td>g</td>\n",
       "    </tr>\n",
       "  </tbody>\n",
       "</table>\n",
       "<p>5 rows × 23 columns</p>\n",
       "</div>"
      ],
      "text/plain": [
       "  class cap-shape cap-surface cap-color bruises odor gill-attachment  \\\n",
       "0     p         x           s         n       t    p               f   \n",
       "1     e         x           s         y       t    a               f   \n",
       "2     e         b           s         w       t    l               f   \n",
       "3     p         x           y         w       t    p               f   \n",
       "4     e         x           s         g       f    n               f   \n",
       "\n",
       "  gill-spacing gill-size gill-color  ... stalk-surface-below-ring  \\\n",
       "0            c         n          k  ...                        s   \n",
       "1            c         b          k  ...                        s   \n",
       "2            c         b          n  ...                        s   \n",
       "3            c         n          n  ...                        s   \n",
       "4            w         b          k  ...                        s   \n",
       "\n",
       "  stalk-color-above-ring stalk-color-below-ring veil-type veil-color  \\\n",
       "0                      w                      w         p          w   \n",
       "1                      w                      w         p          w   \n",
       "2                      w                      w         p          w   \n",
       "3                      w                      w         p          w   \n",
       "4                      w                      w         p          w   \n",
       "\n",
       "  ring-number ring-type spore-print-color population habitat  \n",
       "0           o         p                 k          s       u  \n",
       "1           o         p                 n          n       g  \n",
       "2           o         p                 n          n       m  \n",
       "3           o         p                 k          s       u  \n",
       "4           o         e                 n          a       g  \n",
       "\n",
       "[5 rows x 23 columns]"
      ]
     },
     "execution_count": 3,
     "metadata": {},
     "output_type": "execute_result"
    }
   ],
   "source": [
    "df.head() #Reading out top 5 rows "
   ]
  },
  {
   "cell_type": "code",
   "execution_count": 4,
   "metadata": {},
   "outputs": [
    {
     "data": {
      "text/html": [
       "<div>\n",
       "<style scoped>\n",
       "    .dataframe tbody tr th:only-of-type {\n",
       "        vertical-align: middle;\n",
       "    }\n",
       "\n",
       "    .dataframe tbody tr th {\n",
       "        vertical-align: top;\n",
       "    }\n",
       "\n",
       "    .dataframe thead th {\n",
       "        text-align: right;\n",
       "    }\n",
       "</style>\n",
       "<table border=\"1\" class=\"dataframe\">\n",
       "  <thead>\n",
       "    <tr style=\"text-align: right;\">\n",
       "      <th></th>\n",
       "      <th>class</th>\n",
       "      <th>cap-shape</th>\n",
       "      <th>cap-surface</th>\n",
       "      <th>cap-color</th>\n",
       "      <th>bruises</th>\n",
       "      <th>odor</th>\n",
       "      <th>gill-attachment</th>\n",
       "      <th>gill-spacing</th>\n",
       "      <th>gill-size</th>\n",
       "      <th>gill-color</th>\n",
       "      <th>...</th>\n",
       "      <th>stalk-surface-below-ring</th>\n",
       "      <th>stalk-color-above-ring</th>\n",
       "      <th>stalk-color-below-ring</th>\n",
       "      <th>veil-type</th>\n",
       "      <th>veil-color</th>\n",
       "      <th>ring-number</th>\n",
       "      <th>ring-type</th>\n",
       "      <th>spore-print-color</th>\n",
       "      <th>population</th>\n",
       "      <th>habitat</th>\n",
       "    </tr>\n",
       "  </thead>\n",
       "  <tbody>\n",
       "    <tr>\n",
       "      <th>8119</th>\n",
       "      <td>e</td>\n",
       "      <td>k</td>\n",
       "      <td>s</td>\n",
       "      <td>n</td>\n",
       "      <td>f</td>\n",
       "      <td>n</td>\n",
       "      <td>a</td>\n",
       "      <td>c</td>\n",
       "      <td>b</td>\n",
       "      <td>y</td>\n",
       "      <td>...</td>\n",
       "      <td>s</td>\n",
       "      <td>o</td>\n",
       "      <td>o</td>\n",
       "      <td>p</td>\n",
       "      <td>o</td>\n",
       "      <td>o</td>\n",
       "      <td>p</td>\n",
       "      <td>b</td>\n",
       "      <td>c</td>\n",
       "      <td>l</td>\n",
       "    </tr>\n",
       "    <tr>\n",
       "      <th>8120</th>\n",
       "      <td>e</td>\n",
       "      <td>x</td>\n",
       "      <td>s</td>\n",
       "      <td>n</td>\n",
       "      <td>f</td>\n",
       "      <td>n</td>\n",
       "      <td>a</td>\n",
       "      <td>c</td>\n",
       "      <td>b</td>\n",
       "      <td>y</td>\n",
       "      <td>...</td>\n",
       "      <td>s</td>\n",
       "      <td>o</td>\n",
       "      <td>o</td>\n",
       "      <td>p</td>\n",
       "      <td>n</td>\n",
       "      <td>o</td>\n",
       "      <td>p</td>\n",
       "      <td>b</td>\n",
       "      <td>v</td>\n",
       "      <td>l</td>\n",
       "    </tr>\n",
       "    <tr>\n",
       "      <th>8121</th>\n",
       "      <td>e</td>\n",
       "      <td>f</td>\n",
       "      <td>s</td>\n",
       "      <td>n</td>\n",
       "      <td>f</td>\n",
       "      <td>n</td>\n",
       "      <td>a</td>\n",
       "      <td>c</td>\n",
       "      <td>b</td>\n",
       "      <td>n</td>\n",
       "      <td>...</td>\n",
       "      <td>s</td>\n",
       "      <td>o</td>\n",
       "      <td>o</td>\n",
       "      <td>p</td>\n",
       "      <td>o</td>\n",
       "      <td>o</td>\n",
       "      <td>p</td>\n",
       "      <td>b</td>\n",
       "      <td>c</td>\n",
       "      <td>l</td>\n",
       "    </tr>\n",
       "    <tr>\n",
       "      <th>8122</th>\n",
       "      <td>p</td>\n",
       "      <td>k</td>\n",
       "      <td>y</td>\n",
       "      <td>n</td>\n",
       "      <td>f</td>\n",
       "      <td>y</td>\n",
       "      <td>f</td>\n",
       "      <td>c</td>\n",
       "      <td>n</td>\n",
       "      <td>b</td>\n",
       "      <td>...</td>\n",
       "      <td>k</td>\n",
       "      <td>w</td>\n",
       "      <td>w</td>\n",
       "      <td>p</td>\n",
       "      <td>w</td>\n",
       "      <td>o</td>\n",
       "      <td>e</td>\n",
       "      <td>w</td>\n",
       "      <td>v</td>\n",
       "      <td>l</td>\n",
       "    </tr>\n",
       "    <tr>\n",
       "      <th>8123</th>\n",
       "      <td>e</td>\n",
       "      <td>x</td>\n",
       "      <td>s</td>\n",
       "      <td>n</td>\n",
       "      <td>f</td>\n",
       "      <td>n</td>\n",
       "      <td>a</td>\n",
       "      <td>c</td>\n",
       "      <td>b</td>\n",
       "      <td>y</td>\n",
       "      <td>...</td>\n",
       "      <td>s</td>\n",
       "      <td>o</td>\n",
       "      <td>o</td>\n",
       "      <td>p</td>\n",
       "      <td>o</td>\n",
       "      <td>o</td>\n",
       "      <td>p</td>\n",
       "      <td>o</td>\n",
       "      <td>c</td>\n",
       "      <td>l</td>\n",
       "    </tr>\n",
       "  </tbody>\n",
       "</table>\n",
       "<p>5 rows × 23 columns</p>\n",
       "</div>"
      ],
      "text/plain": [
       "     class cap-shape cap-surface cap-color bruises odor gill-attachment  \\\n",
       "8119     e         k           s         n       f    n               a   \n",
       "8120     e         x           s         n       f    n               a   \n",
       "8121     e         f           s         n       f    n               a   \n",
       "8122     p         k           y         n       f    y               f   \n",
       "8123     e         x           s         n       f    n               a   \n",
       "\n",
       "     gill-spacing gill-size gill-color  ... stalk-surface-below-ring  \\\n",
       "8119            c         b          y  ...                        s   \n",
       "8120            c         b          y  ...                        s   \n",
       "8121            c         b          n  ...                        s   \n",
       "8122            c         n          b  ...                        k   \n",
       "8123            c         b          y  ...                        s   \n",
       "\n",
       "     stalk-color-above-ring stalk-color-below-ring veil-type veil-color  \\\n",
       "8119                      o                      o         p          o   \n",
       "8120                      o                      o         p          n   \n",
       "8121                      o                      o         p          o   \n",
       "8122                      w                      w         p          w   \n",
       "8123                      o                      o         p          o   \n",
       "\n",
       "     ring-number ring-type spore-print-color population habitat  \n",
       "8119           o         p                 b          c       l  \n",
       "8120           o         p                 b          v       l  \n",
       "8121           o         p                 b          c       l  \n",
       "8122           o         e                 w          v       l  \n",
       "8123           o         p                 o          c       l  \n",
       "\n",
       "[5 rows x 23 columns]"
      ]
     },
     "execution_count": 4,
     "metadata": {},
     "output_type": "execute_result"
    }
   ],
   "source": [
    "df.tail() #Reading out bottom 5 rows"
   ]
  },
  {
   "cell_type": "code",
   "execution_count": 5,
   "metadata": {},
   "outputs": [
    {
     "data": {
      "text/plain": [
       "(8124, 23)"
      ]
     },
     "execution_count": 5,
     "metadata": {},
     "output_type": "execute_result"
    }
   ],
   "source": [
    "df.shape #Reading the shape of data"
   ]
  },
  {
   "cell_type": "code",
   "execution_count": 6,
   "metadata": {},
   "outputs": [
    {
     "data": {
      "text/html": [
       "<div>\n",
       "<style scoped>\n",
       "    .dataframe tbody tr th:only-of-type {\n",
       "        vertical-align: middle;\n",
       "    }\n",
       "\n",
       "    .dataframe tbody tr th {\n",
       "        vertical-align: top;\n",
       "    }\n",
       "\n",
       "    .dataframe thead th {\n",
       "        text-align: right;\n",
       "    }\n",
       "</style>\n",
       "<table border=\"1\" class=\"dataframe\">\n",
       "  <thead>\n",
       "    <tr style=\"text-align: right;\">\n",
       "      <th></th>\n",
       "      <th>class</th>\n",
       "      <th>cap-shape</th>\n",
       "      <th>cap-surface</th>\n",
       "      <th>cap-color</th>\n",
       "      <th>bruises</th>\n",
       "      <th>odor</th>\n",
       "      <th>gill-attachment</th>\n",
       "      <th>gill-spacing</th>\n",
       "      <th>gill-size</th>\n",
       "      <th>gill-color</th>\n",
       "      <th>...</th>\n",
       "      <th>stalk-surface-below-ring</th>\n",
       "      <th>stalk-color-above-ring</th>\n",
       "      <th>stalk-color-below-ring</th>\n",
       "      <th>veil-type</th>\n",
       "      <th>veil-color</th>\n",
       "      <th>ring-number</th>\n",
       "      <th>ring-type</th>\n",
       "      <th>spore-print-color</th>\n",
       "      <th>population</th>\n",
       "      <th>habitat</th>\n",
       "    </tr>\n",
       "  </thead>\n",
       "  <tbody>\n",
       "    <tr>\n",
       "      <th>count</th>\n",
       "      <td>8124</td>\n",
       "      <td>8124</td>\n",
       "      <td>8124</td>\n",
       "      <td>8124</td>\n",
       "      <td>8124</td>\n",
       "      <td>8124</td>\n",
       "      <td>8124</td>\n",
       "      <td>8124</td>\n",
       "      <td>8124</td>\n",
       "      <td>8124</td>\n",
       "      <td>...</td>\n",
       "      <td>8124</td>\n",
       "      <td>8124</td>\n",
       "      <td>8124</td>\n",
       "      <td>8124</td>\n",
       "      <td>8124</td>\n",
       "      <td>8124</td>\n",
       "      <td>8124</td>\n",
       "      <td>8124</td>\n",
       "      <td>8124</td>\n",
       "      <td>8124</td>\n",
       "    </tr>\n",
       "    <tr>\n",
       "      <th>unique</th>\n",
       "      <td>2</td>\n",
       "      <td>6</td>\n",
       "      <td>4</td>\n",
       "      <td>10</td>\n",
       "      <td>2</td>\n",
       "      <td>9</td>\n",
       "      <td>2</td>\n",
       "      <td>2</td>\n",
       "      <td>2</td>\n",
       "      <td>12</td>\n",
       "      <td>...</td>\n",
       "      <td>4</td>\n",
       "      <td>9</td>\n",
       "      <td>9</td>\n",
       "      <td>1</td>\n",
       "      <td>4</td>\n",
       "      <td>3</td>\n",
       "      <td>5</td>\n",
       "      <td>9</td>\n",
       "      <td>6</td>\n",
       "      <td>7</td>\n",
       "    </tr>\n",
       "    <tr>\n",
       "      <th>top</th>\n",
       "      <td>e</td>\n",
       "      <td>x</td>\n",
       "      <td>y</td>\n",
       "      <td>n</td>\n",
       "      <td>f</td>\n",
       "      <td>n</td>\n",
       "      <td>f</td>\n",
       "      <td>c</td>\n",
       "      <td>b</td>\n",
       "      <td>b</td>\n",
       "      <td>...</td>\n",
       "      <td>s</td>\n",
       "      <td>w</td>\n",
       "      <td>w</td>\n",
       "      <td>p</td>\n",
       "      <td>w</td>\n",
       "      <td>o</td>\n",
       "      <td>p</td>\n",
       "      <td>w</td>\n",
       "      <td>v</td>\n",
       "      <td>d</td>\n",
       "    </tr>\n",
       "    <tr>\n",
       "      <th>freq</th>\n",
       "      <td>4208</td>\n",
       "      <td>3656</td>\n",
       "      <td>3244</td>\n",
       "      <td>2284</td>\n",
       "      <td>4748</td>\n",
       "      <td>3528</td>\n",
       "      <td>7914</td>\n",
       "      <td>6812</td>\n",
       "      <td>5612</td>\n",
       "      <td>1728</td>\n",
       "      <td>...</td>\n",
       "      <td>4936</td>\n",
       "      <td>4464</td>\n",
       "      <td>4384</td>\n",
       "      <td>8124</td>\n",
       "      <td>7924</td>\n",
       "      <td>7488</td>\n",
       "      <td>3968</td>\n",
       "      <td>2388</td>\n",
       "      <td>4040</td>\n",
       "      <td>3148</td>\n",
       "    </tr>\n",
       "  </tbody>\n",
       "</table>\n",
       "<p>4 rows × 23 columns</p>\n",
       "</div>"
      ],
      "text/plain": [
       "       class cap-shape cap-surface cap-color bruises  odor gill-attachment  \\\n",
       "count   8124      8124        8124      8124    8124  8124            8124   \n",
       "unique     2         6           4        10       2     9               2   \n",
       "top        e         x           y         n       f     n               f   \n",
       "freq    4208      3656        3244      2284    4748  3528            7914   \n",
       "\n",
       "       gill-spacing gill-size gill-color  ... stalk-surface-below-ring  \\\n",
       "count          8124      8124       8124  ...                     8124   \n",
       "unique            2         2         12  ...                        4   \n",
       "top               c         b          b  ...                        s   \n",
       "freq           6812      5612       1728  ...                     4936   \n",
       "\n",
       "       stalk-color-above-ring stalk-color-below-ring veil-type veil-color  \\\n",
       "count                    8124                   8124      8124       8124   \n",
       "unique                      9                      9         1          4   \n",
       "top                         w                      w         p          w   \n",
       "freq                     4464                   4384      8124       7924   \n",
       "\n",
       "       ring-number ring-type spore-print-color population habitat  \n",
       "count         8124      8124              8124       8124    8124  \n",
       "unique           3         5                 9          6       7  \n",
       "top              o         p                 w          v       d  \n",
       "freq          7488      3968              2388       4040    3148  \n",
       "\n",
       "[4 rows x 23 columns]"
      ]
     },
     "execution_count": 6,
     "metadata": {},
     "output_type": "execute_result"
    }
   ],
   "source": [
    "df.describe() #To know some statistics of data"
   ]
  },
  {
   "attachments": {},
   "cell_type": "markdown",
   "metadata": {},
   "source": [
    "### 4. Data Cleaning"
   ]
  },
  {
   "cell_type": "code",
   "execution_count": 7,
   "metadata": {},
   "outputs": [
    {
     "data": {
      "text/plain": [
       "class                       0\n",
       "cap-shape                   0\n",
       "cap-surface                 0\n",
       "cap-color                   0\n",
       "bruises                     0\n",
       "odor                        0\n",
       "gill-attachment             0\n",
       "gill-spacing                0\n",
       "gill-size                   0\n",
       "gill-color                  0\n",
       "stalk-shape                 0\n",
       "stalk-root                  0\n",
       "stalk-surface-above-ring    0\n",
       "stalk-surface-below-ring    0\n",
       "stalk-color-above-ring      0\n",
       "stalk-color-below-ring      0\n",
       "veil-type                   0\n",
       "veil-color                  0\n",
       "ring-number                 0\n",
       "ring-type                   0\n",
       "spore-print-color           0\n",
       "population                  0\n",
       "habitat                     0\n",
       "dtype: int64"
      ]
     },
     "execution_count": 7,
     "metadata": {},
     "output_type": "execute_result"
    }
   ],
   "source": [
    "df.isnull().sum() #to check the null value in the column"
   ]
  },
  {
   "attachments": {},
   "cell_type": "markdown",
   "metadata": {},
   "source": [
    "##### No None value is present in data."
   ]
  },
  {
   "cell_type": "code",
   "execution_count": 8,
   "metadata": {},
   "outputs": [
    {
     "data": {
      "text/plain": [
       "0"
      ]
     },
     "execution_count": 8,
     "metadata": {},
     "output_type": "execute_result"
    }
   ],
   "source": [
    "df.duplicated().sum() #to check the duplicated rows "
   ]
  },
  {
   "attachments": {},
   "cell_type": "markdown",
   "metadata": {},
   "source": [
    "##### No duplicate rows is also found, so data is clean & ready to use."
   ]
  },
  {
   "attachments": {},
   "cell_type": "markdown",
   "metadata": {},
   "source": [
    "### 5. Data Preprocessing"
   ]
  },
  {
   "cell_type": "code",
   "execution_count": 9,
   "metadata": {},
   "outputs": [
    {
     "name": "stdout",
     "output_type": "stream",
     "text": [
      "class\n",
      "['p' 'e']\n",
      "\n",
      "cap-shape\n",
      "['x' 'b' 's' 'f' 'k' 'c']\n",
      "\n",
      "cap-surface\n",
      "['s' 'y' 'f' 'g']\n",
      "\n",
      "cap-color\n",
      "['n' 'y' 'w' 'g' 'e' 'p' 'b' 'u' 'c' 'r']\n",
      "\n",
      "bruises\n",
      "['t' 'f']\n",
      "\n",
      "odor\n",
      "['p' 'a' 'l' 'n' 'f' 'c' 'y' 's' 'm']\n",
      "\n",
      "gill-attachment\n",
      "['f' 'a']\n",
      "\n",
      "gill-spacing\n",
      "['c' 'w']\n",
      "\n",
      "gill-size\n",
      "['n' 'b']\n",
      "\n",
      "gill-color\n",
      "['k' 'n' 'g' 'p' 'w' 'h' 'u' 'e' 'b' 'r' 'y' 'o']\n",
      "\n",
      "stalk-shape\n",
      "['e' 't']\n",
      "\n",
      "stalk-root\n",
      "['e' 'c' 'b' 'r' '?']\n",
      "\n",
      "stalk-surface-above-ring\n",
      "['s' 'f' 'k' 'y']\n",
      "\n",
      "stalk-surface-below-ring\n",
      "['s' 'f' 'y' 'k']\n",
      "\n",
      "stalk-color-above-ring\n",
      "['w' 'g' 'p' 'n' 'b' 'e' 'o' 'c' 'y']\n",
      "\n",
      "stalk-color-below-ring\n",
      "['w' 'p' 'g' 'b' 'n' 'e' 'y' 'o' 'c']\n",
      "\n",
      "veil-type\n",
      "['p']\n",
      "\n",
      "veil-color\n",
      "['w' 'n' 'o' 'y']\n",
      "\n",
      "ring-number\n",
      "['o' 't' 'n']\n",
      "\n",
      "ring-type\n",
      "['p' 'e' 'l' 'f' 'n']\n",
      "\n",
      "spore-print-color\n",
      "['k' 'n' 'u' 'h' 'w' 'r' 'o' 'y' 'b']\n",
      "\n",
      "population\n",
      "['s' 'n' 'a' 'v' 'y' 'c']\n",
      "\n",
      "habitat\n",
      "['u' 'g' 'm' 'd' 'p' 'w' 'l']\n",
      "\n"
     ]
    }
   ],
   "source": [
    "#to identify the unique categoris in each column for preprocessing\n",
    "\n",
    "for i in df.columns:\n",
    "    values = df[i].unique()\n",
    "    print(f\"{i}\")\n",
    "    print(values)\n",
    "    print()"
   ]
  },
  {
   "attachments": {},
   "cell_type": "markdown",
   "metadata": {},
   "source": [
    "All categories are label as single alphabet, which can't get significant to read out, so it needs some label to understand each category with its significant of alphabet, It's information is found from internet."
   ]
  },
  {
   "attachments": {},
   "cell_type": "markdown",
   "metadata": {},
   "source": [
    "1. class: poisonous=p, edible=e (target feature)\n",
    "\n",
    "2. cap-shape: bell=b,conical=c,convex=x,flat=f, knobbed=k,sunken=s\n",
    "\n",
    "3. cap-surface: fibrous=f,grooves=g,scaly=y,smooth=s\n",
    "\n",
    "4. cap-color: brown=n,buff=b,cinnamon=c,gray=g,green=r, pink=p,purple=u,red=e,white=w,yellow=y\n",
    "\n",
    "5. bruises?: bruises=t,no=f\n",
    "\n",
    "6. odor: almond=a,anise=l,creosote=c,fishy=y,foul=f, musty=m,none=n,pungent=p,spicy=s\n",
    "\n",
    "7. gill-attachment: attached=a,descending=d,free=f,notched=n\n",
    "\n",
    "8. gill-spacing: close=c,crowded=w,distant=d\n",
    "\n",
    "9. gill-size: broad=b,narrow=n\n",
    "\n",
    "10. gill-color: black=k,brown=n,buff=b,chocolate=h,gray=g, green=r,orange=o,pink=p,purple=u,red=e, white=w,yellow=y\n",
    "\n",
    "11. stalk-shape: enlarging=e,tapering=t\n",
    "\n",
    "12. stalk-root: bulbous=b,club=c,cup=u,equal=e, rhizomorphs=z,rooted=r,missing=?\n",
    "\n",
    "13. stalk-surface-above-ring: fibrous=f,scaly=y,silky=k,smooth=s\n",
    "\n",
    "14. stalk-surface-below-ring: fibrous=f,scaly=y,silky=k,smooth=s\n",
    "\n",
    "15. stalk-color-above-ring: brown=n,buff=b,cinnamon=c,gray=g,orange=o, pink=p,red=e,white=w,yellow=y\n",
    "\n",
    "16. stalk-color-below-ring: brown=n,buff=b,cinnamon=c,gray=g,orange=o, pink=p,red=e,white=w,yellow=y\n",
    "\n",
    "17. veil-type: partial=p,universal=u\n",
    "\n",
    "18. veil-color: brown=n,orange=o,white=w,yellow=y\n",
    "\n",
    "19. ring-number: none=n,one=o,two=t\n",
    "\n",
    "20. ring-type: cobwebby=c,evanescent=e,flaring=f,large=l, none=n,pendant=p,sheathing=s,zone=z\n",
    "\n",
    "21. spore-print-color: black=k,brown=n,buff=b,chocolate=h,green=r, orange=o,purple=u,white=w,yellow=y\n",
    "\n",
    "22. population: abundant=a,clustered=c,numerous=n, scattered=s,several=v,solitary=y\n",
    "\n",
    "23. habitat: grasses=g,leaves=l,meadows=m,paths=p, urban=u,waste=w,woods=d"
   ]
  },
  {
   "attachments": {},
   "cell_type": "markdown",
   "metadata": {},
   "source": [
    "We will change feature with to every coloumn with its' significance value as to identify each in readable significance."
   ]
  },
  {
   "cell_type": "code",
   "execution_count": 10,
   "metadata": {},
   "outputs": [
    {
     "data": {
      "text/plain": [
       "array(['p', 'e'], dtype=object)"
      ]
     },
     "execution_count": 10,
     "metadata": {},
     "output_type": "execute_result"
    }
   ],
   "source": [
    "#1 class\n",
    "df[\"class\"].unique() #to identify its unique features to replace with"
   ]
  },
  {
   "cell_type": "code",
   "execution_count": 11,
   "metadata": {},
   "outputs": [
    {
     "data": {
      "text/plain": [
       "0       poisonous\n",
       "1          edible\n",
       "2          edible\n",
       "3       poisonous\n",
       "4          edible\n",
       "          ...    \n",
       "8119       edible\n",
       "8120       edible\n",
       "8121       edible\n",
       "8122    poisonous\n",
       "8123       edible\n",
       "Name: class, Length: 8124, dtype: object"
      ]
     },
     "execution_count": 11,
     "metadata": {},
     "output_type": "execute_result"
    }
   ],
   "source": [
    "df['class'] = df['class'].replace(['e','p'],['edible','poisonous']) #Replacing alphabet with its significant name\n",
    "df[\"class\"]"
   ]
  },
  {
   "cell_type": "code",
   "execution_count": 12,
   "metadata": {},
   "outputs": [
    {
     "data": {
      "text/plain": [
       "array(['x', 'b', 's', 'f', 'k', 'c'], dtype=object)"
      ]
     },
     "execution_count": 12,
     "metadata": {},
     "output_type": "execute_result"
    }
   ],
   "source": [
    "#2 cap shape\n",
    "df[\"cap-shape\"].unique()"
   ]
  },
  {
   "cell_type": "code",
   "execution_count": 13,
   "metadata": {},
   "outputs": [
    {
     "data": {
      "text/plain": [
       "0        convex\n",
       "1        convex\n",
       "2          bell\n",
       "3        convex\n",
       "4        convex\n",
       "         ...   \n",
       "8119    knobbed\n",
       "8120     convex\n",
       "8121       flat\n",
       "8122    knobbed\n",
       "8123     convex\n",
       "Name: cap-shape, Length: 8124, dtype: object"
      ]
     },
     "execution_count": 13,
     "metadata": {},
     "output_type": "execute_result"
    }
   ],
   "source": [
    "df['cap-shape'] = df['cap-shape'].replace(['b','c','x','f','k','s'],['bell','conical','convex','flat', 'knobbed', 'sunken' ])\n",
    "df['cap-shape']"
   ]
  },
  {
   "cell_type": "code",
   "execution_count": 14,
   "metadata": {},
   "outputs": [
    {
     "data": {
      "text/plain": [
       "array(['s', 'y', 'f', 'g'], dtype=object)"
      ]
     },
     "execution_count": 14,
     "metadata": {},
     "output_type": "execute_result"
    }
   ],
   "source": [
    "#3 cap surface\n",
    "df[\"cap-surface\"].unique()"
   ]
  },
  {
   "cell_type": "code",
   "execution_count": 15,
   "metadata": {},
   "outputs": [
    {
     "data": {
      "text/plain": [
       "0       smooth\n",
       "1       smooth\n",
       "2       smooth\n",
       "3        scaly\n",
       "4       smooth\n",
       "         ...  \n",
       "8119    smooth\n",
       "8120    smooth\n",
       "8121    smooth\n",
       "8122     scaly\n",
       "8123    smooth\n",
       "Name: cap-surface, Length: 8124, dtype: object"
      ]
     },
     "execution_count": 15,
     "metadata": {},
     "output_type": "execute_result"
    }
   ],
   "source": [
    "df['cap-surface'] = df['cap-surface'].replace(['f','g','y','s'],['fibrous','grooves','scaly','smooth'])\n",
    "df['cap-surface']"
   ]
  },
  {
   "cell_type": "code",
   "execution_count": 16,
   "metadata": {},
   "outputs": [
    {
     "data": {
      "text/plain": [
       "array(['n', 'y', 'w', 'g', 'e', 'p', 'b', 'u', 'c', 'r'], dtype=object)"
      ]
     },
     "execution_count": 16,
     "metadata": {},
     "output_type": "execute_result"
    }
   ],
   "source": [
    "#4. cap color\n",
    "df[\"cap-color\"].unique()"
   ]
  },
  {
   "cell_type": "code",
   "execution_count": 17,
   "metadata": {},
   "outputs": [
    {
     "data": {
      "text/plain": [
       "0        brown\n",
       "1       yellow\n",
       "2        white\n",
       "3        white\n",
       "4         gray\n",
       "         ...  \n",
       "8119     brown\n",
       "8120     brown\n",
       "8121     brown\n",
       "8122     brown\n",
       "8123     brown\n",
       "Name: cap-color, Length: 8124, dtype: object"
      ]
     },
     "execution_count": 17,
     "metadata": {},
     "output_type": "execute_result"
    }
   ],
   "source": [
    "df['cap-color'] = df['cap-color'].replace(['n','b','c','g','r','p','u','e','w','y'],['brown','buff','cinnamon','gray','green', 'pink','purple','red','white','yellow'])\n",
    "df['cap-color']"
   ]
  },
  {
   "cell_type": "code",
   "execution_count": 18,
   "metadata": {},
   "outputs": [
    {
     "data": {
      "text/plain": [
       "array(['t', 'f'], dtype=object)"
      ]
     },
     "execution_count": 18,
     "metadata": {},
     "output_type": "execute_result"
    }
   ],
   "source": [
    "#5. bruises\n",
    "df[\"bruises\"].unique()"
   ]
  },
  {
   "cell_type": "code",
   "execution_count": 19,
   "metadata": {},
   "outputs": [
    {
     "data": {
      "text/plain": [
       "0       yes\n",
       "1       yes\n",
       "2       yes\n",
       "3       yes\n",
       "4        no\n",
       "       ... \n",
       "8119     no\n",
       "8120     no\n",
       "8121     no\n",
       "8122     no\n",
       "8123     no\n",
       "Name: bruises, Length: 8124, dtype: object"
      ]
     },
     "execution_count": 19,
     "metadata": {},
     "output_type": "execute_result"
    }
   ],
   "source": [
    "df['bruises'] = df['bruises'].replace(['t','f'],['yes','no'])\n",
    "df['bruises']"
   ]
  },
  {
   "cell_type": "code",
   "execution_count": 20,
   "metadata": {},
   "outputs": [
    {
     "data": {
      "text/plain": [
       "array(['p', 'a', 'l', 'n', 'f', 'c', 'y', 's', 'm'], dtype=object)"
      ]
     },
     "execution_count": 20,
     "metadata": {},
     "output_type": "execute_result"
    }
   ],
   "source": [
    "#6. odor\n",
    "df[\"odor\"].unique()"
   ]
  },
  {
   "cell_type": "code",
   "execution_count": 21,
   "metadata": {},
   "outputs": [
    {
     "data": {
      "text/plain": [
       "0       pungent\n",
       "1        almond\n",
       "2         anise\n",
       "3       pungent\n",
       "4          none\n",
       "         ...   \n",
       "8119       none\n",
       "8120       none\n",
       "8121       none\n",
       "8122      fishy\n",
       "8123       none\n",
       "Name: odor, Length: 8124, dtype: object"
      ]
     },
     "execution_count": 21,
     "metadata": {},
     "output_type": "execute_result"
    }
   ],
   "source": [
    "df['odor'] = df['odor'].replace(['a','l','c','y','f','m','n','p','s'],['almond','anise','creosote','fishy','foul','musty','none','pungent','spicy'])\n",
    "df['odor']"
   ]
  },
  {
   "cell_type": "code",
   "execution_count": 22,
   "metadata": {},
   "outputs": [
    {
     "data": {
      "text/plain": [
       "array(['f', 'a'], dtype=object)"
      ]
     },
     "execution_count": 22,
     "metadata": {},
     "output_type": "execute_result"
    }
   ],
   "source": [
    "#7. gill attachment\n",
    "df[\"gill-attachment\"].unique()"
   ]
  },
  {
   "cell_type": "code",
   "execution_count": 23,
   "metadata": {},
   "outputs": [
    {
     "data": {
      "text/plain": [
       "0           free\n",
       "1           free\n",
       "2           free\n",
       "3           free\n",
       "4           free\n",
       "          ...   \n",
       "8119    attached\n",
       "8120    attached\n",
       "8121    attached\n",
       "8122        free\n",
       "8123    attached\n",
       "Name: gill-attachment, Length: 8124, dtype: object"
      ]
     },
     "execution_count": 23,
     "metadata": {},
     "output_type": "execute_result"
    }
   ],
   "source": [
    "df['gill-attachment'] = df['gill-attachment'].replace(['a','f'],['attached','free'])\n",
    "df['gill-attachment']"
   ]
  },
  {
   "cell_type": "code",
   "execution_count": 24,
   "metadata": {},
   "outputs": [
    {
     "data": {
      "text/plain": [
       "array(['c', 'w'], dtype=object)"
      ]
     },
     "execution_count": 24,
     "metadata": {},
     "output_type": "execute_result"
    }
   ],
   "source": [
    "#8. gill spacing\n",
    "df[\"gill-spacing\"].unique()"
   ]
  },
  {
   "cell_type": "code",
   "execution_count": 25,
   "metadata": {},
   "outputs": [
    {
     "data": {
      "text/plain": [
       "0         close\n",
       "1         close\n",
       "2         close\n",
       "3         close\n",
       "4       crowded\n",
       "         ...   \n",
       "8119      close\n",
       "8120      close\n",
       "8121      close\n",
       "8122      close\n",
       "8123      close\n",
       "Name: gill-spacing, Length: 8124, dtype: object"
      ]
     },
     "execution_count": 25,
     "metadata": {},
     "output_type": "execute_result"
    }
   ],
   "source": [
    "df['gill-spacing'] = df['gill-spacing'].replace(['c','w'],['close','crowded'])\n",
    "df['gill-spacing']"
   ]
  },
  {
   "cell_type": "code",
   "execution_count": 26,
   "metadata": {},
   "outputs": [
    {
     "data": {
      "text/plain": [
       "array(['n', 'b'], dtype=object)"
      ]
     },
     "execution_count": 26,
     "metadata": {},
     "output_type": "execute_result"
    }
   ],
   "source": [
    "#9. gill size\n",
    "df[\"gill-size\"].unique()"
   ]
  },
  {
   "cell_type": "code",
   "execution_count": 27,
   "metadata": {},
   "outputs": [
    {
     "data": {
      "text/plain": [
       "0       narrow\n",
       "1        broad\n",
       "2        broad\n",
       "3       narrow\n",
       "4        broad\n",
       "         ...  \n",
       "8119     broad\n",
       "8120     broad\n",
       "8121     broad\n",
       "8122    narrow\n",
       "8123     broad\n",
       "Name: gill-size, Length: 8124, dtype: object"
      ]
     },
     "execution_count": 27,
     "metadata": {},
     "output_type": "execute_result"
    }
   ],
   "source": [
    "df['gill-size'] = df['gill-size'].replace(['b','n'],['broad','narrow'])\n",
    "df['gill-size']"
   ]
  },
  {
   "cell_type": "code",
   "execution_count": 28,
   "metadata": {},
   "outputs": [
    {
     "data": {
      "text/plain": [
       "array(['k', 'n', 'g', 'p', 'w', 'h', 'u', 'e', 'b', 'r', 'y', 'o'],\n",
       "      dtype=object)"
      ]
     },
     "execution_count": 28,
     "metadata": {},
     "output_type": "execute_result"
    }
   ],
   "source": [
    "#10. gill color\n",
    "df[\"gill-color\"].unique()"
   ]
  },
  {
   "cell_type": "code",
   "execution_count": 29,
   "metadata": {},
   "outputs": [
    {
     "data": {
      "text/plain": [
       "0        black\n",
       "1        black\n",
       "2        brown\n",
       "3        brown\n",
       "4        black\n",
       "         ...  \n",
       "8119    yellow\n",
       "8120    yellow\n",
       "8121     brown\n",
       "8122      buff\n",
       "8123    yellow\n",
       "Name: gill-color, Length: 8124, dtype: object"
      ]
     },
     "execution_count": 29,
     "metadata": {},
     "output_type": "execute_result"
    }
   ],
   "source": [
    "df['gill-color'] = df['gill-color'].replace(['k','n','b','h','g','r','o','p','u','e','w','y'],['black','brown','buff','chocolate','gray', 'green','orange','pink','purple','red', 'white','yellow'])\n",
    "df['gill-color']"
   ]
  },
  {
   "cell_type": "code",
   "execution_count": 30,
   "metadata": {},
   "outputs": [
    {
     "data": {
      "text/plain": [
       "array(['e', 't'], dtype=object)"
      ]
     },
     "execution_count": 30,
     "metadata": {},
     "output_type": "execute_result"
    }
   ],
   "source": [
    "#11. stalk shape\n",
    "df[\"stalk-shape\"].unique()"
   ]
  },
  {
   "cell_type": "code",
   "execution_count": 31,
   "metadata": {},
   "outputs": [
    {
     "data": {
      "text/plain": [
       "0       enlarging\n",
       "1       enlarging\n",
       "2       enlarging\n",
       "3       enlarging\n",
       "4        tapering\n",
       "          ...    \n",
       "8119    enlarging\n",
       "8120    enlarging\n",
       "8121    enlarging\n",
       "8122     tapering\n",
       "8123    enlarging\n",
       "Name: stalk-shape, Length: 8124, dtype: object"
      ]
     },
     "execution_count": 31,
     "metadata": {},
     "output_type": "execute_result"
    }
   ],
   "source": [
    "df['stalk-shape'] = df['stalk-shape'].replace(['e','t'],['enlarging','tapering'])\n",
    "df['stalk-shape']"
   ]
  },
  {
   "cell_type": "code",
   "execution_count": 32,
   "metadata": {},
   "outputs": [
    {
     "data": {
      "text/plain": [
       "array(['e', 'c', 'b', 'r', '?'], dtype=object)"
      ]
     },
     "execution_count": 32,
     "metadata": {},
     "output_type": "execute_result"
    }
   ],
   "source": [
    "#12. stalk root\n",
    "df[\"stalk-root\"].unique()"
   ]
  },
  {
   "cell_type": "code",
   "execution_count": 33,
   "metadata": {},
   "outputs": [
    {
     "data": {
      "text/plain": [
       "0         equal\n",
       "1          club\n",
       "2          club\n",
       "3         equal\n",
       "4         equal\n",
       "         ...   \n",
       "8119    missing\n",
       "8120    missing\n",
       "8121    missing\n",
       "8122    missing\n",
       "8123    missing\n",
       "Name: stalk-root, Length: 8124, dtype: object"
      ]
     },
     "execution_count": 33,
     "metadata": {},
     "output_type": "execute_result"
    }
   ],
   "source": [
    "df['stalk-root'] = df['stalk-root'].replace(['b','c','e','r','?'],['bulbous','club','equal','rooted','missing'])\n",
    "df['stalk-root']"
   ]
  },
  {
   "cell_type": "code",
   "execution_count": 34,
   "metadata": {},
   "outputs": [
    {
     "data": {
      "text/plain": [
       "array(['s', 'f', 'k', 'y'], dtype=object)"
      ]
     },
     "execution_count": 34,
     "metadata": {},
     "output_type": "execute_result"
    }
   ],
   "source": [
    "#13. stalk surface above ring\n",
    "df[\"stalk-surface-above-ring\"].unique()"
   ]
  },
  {
   "cell_type": "code",
   "execution_count": 35,
   "metadata": {},
   "outputs": [
    {
     "data": {
      "text/plain": [
       "0       smooth\n",
       "1       smooth\n",
       "2       smooth\n",
       "3       smooth\n",
       "4       smooth\n",
       "         ...  \n",
       "8119    smooth\n",
       "8120    smooth\n",
       "8121    smooth\n",
       "8122    smooth\n",
       "8123    smooth\n",
       "Name: stalk-surface-above-ring, Length: 8124, dtype: object"
      ]
     },
     "execution_count": 35,
     "metadata": {},
     "output_type": "execute_result"
    }
   ],
   "source": [
    "df['stalk-surface-above-ring'] = df['stalk-surface-above-ring'].replace(['f','y','k','s'],['fibrous','scaly','silky','smooth'])\n",
    "df['stalk-surface-above-ring']"
   ]
  },
  {
   "cell_type": "code",
   "execution_count": 36,
   "metadata": {},
   "outputs": [
    {
     "data": {
      "text/plain": [
       "array(['s', 'f', 'y', 'k'], dtype=object)"
      ]
     },
     "execution_count": 36,
     "metadata": {},
     "output_type": "execute_result"
    }
   ],
   "source": [
    "#14. stalk surface below ring\n",
    "df[\"stalk-surface-below-ring\"].unique()"
   ]
  },
  {
   "cell_type": "code",
   "execution_count": 37,
   "metadata": {},
   "outputs": [
    {
     "data": {
      "text/plain": [
       "0       smooth\n",
       "1       smooth\n",
       "2       smooth\n",
       "3       smooth\n",
       "4       smooth\n",
       "         ...  \n",
       "8119    smooth\n",
       "8120    smooth\n",
       "8121    smooth\n",
       "8122     silky\n",
       "8123    smooth\n",
       "Name: stalk-surface-below-ring, Length: 8124, dtype: object"
      ]
     },
     "execution_count": 37,
     "metadata": {},
     "output_type": "execute_result"
    }
   ],
   "source": [
    "df['stalk-surface-below-ring'] = df['stalk-surface-below-ring'].replace(['f','y','k','s'],['fibrous','scaly','silky','smooth'])\n",
    "df['stalk-surface-below-ring']"
   ]
  },
  {
   "cell_type": "code",
   "execution_count": 38,
   "metadata": {},
   "outputs": [
    {
     "data": {
      "text/plain": [
       "array(['w', 'g', 'p', 'n', 'b', 'e', 'o', 'c', 'y'], dtype=object)"
      ]
     },
     "execution_count": 38,
     "metadata": {},
     "output_type": "execute_result"
    }
   ],
   "source": [
    "#15. stalk color above ring\n",
    "df[\"stalk-color-above-ring\"].unique()"
   ]
  },
  {
   "cell_type": "code",
   "execution_count": 39,
   "metadata": {},
   "outputs": [
    {
     "data": {
      "text/plain": [
       "0        white\n",
       "1        white\n",
       "2        white\n",
       "3        white\n",
       "4        white\n",
       "         ...  \n",
       "8119    orange\n",
       "8120    orange\n",
       "8121    orange\n",
       "8122     white\n",
       "8123    orange\n",
       "Name: stalk-color-above-ring, Length: 8124, dtype: object"
      ]
     },
     "execution_count": 39,
     "metadata": {},
     "output_type": "execute_result"
    }
   ],
   "source": [
    "df['stalk-color-above-ring'] = df['stalk-color-above-ring'].replace(['n','b','c','g','o','p','e','w','y'],['brown','buff','cinnamon','gray','orange','pink','red','white','yellow'])\n",
    "df['stalk-color-above-ring']"
   ]
  },
  {
   "cell_type": "code",
   "execution_count": 40,
   "metadata": {},
   "outputs": [
    {
     "data": {
      "text/plain": [
       "array(['w', 'p', 'g', 'b', 'n', 'e', 'y', 'o', 'c'], dtype=object)"
      ]
     },
     "execution_count": 40,
     "metadata": {},
     "output_type": "execute_result"
    }
   ],
   "source": [
    "#16. stalk color below ring\n",
    "df[\"stalk-color-below-ring\"].unique()"
   ]
  },
  {
   "cell_type": "code",
   "execution_count": 41,
   "metadata": {},
   "outputs": [
    {
     "data": {
      "text/plain": [
       "0        white\n",
       "1        white\n",
       "2        white\n",
       "3        white\n",
       "4        white\n",
       "         ...  \n",
       "8119    orange\n",
       "8120    orange\n",
       "8121    orange\n",
       "8122     white\n",
       "8123    orange\n",
       "Name: stalk-color-below-ring, Length: 8124, dtype: object"
      ]
     },
     "execution_count": 41,
     "metadata": {},
     "output_type": "execute_result"
    }
   ],
   "source": [
    "df['stalk-color-below-ring'] = df['stalk-color-below-ring'].replace(['n','b','c','g','o','p','e','w','y'],['brown','buff','cinnamon','gray','orange','pink','red','white','yellow'])\n",
    "df['stalk-color-below-ring']"
   ]
  },
  {
   "cell_type": "code",
   "execution_count": 42,
   "metadata": {},
   "outputs": [
    {
     "data": {
      "text/plain": [
       "array(['p'], dtype=object)"
      ]
     },
     "execution_count": 42,
     "metadata": {},
     "output_type": "execute_result"
    }
   ],
   "source": [
    "#17. veil type\n",
    "df[\"veil-type\"].unique()"
   ]
  },
  {
   "cell_type": "code",
   "execution_count": 43,
   "metadata": {},
   "outputs": [
    {
     "data": {
      "text/plain": [
       "0       partial\n",
       "1       partial\n",
       "2       partial\n",
       "3       partial\n",
       "4       partial\n",
       "         ...   \n",
       "8119    partial\n",
       "8120    partial\n",
       "8121    partial\n",
       "8122    partial\n",
       "8123    partial\n",
       "Name: veil-type, Length: 8124, dtype: object"
      ]
     },
     "execution_count": 43,
     "metadata": {},
     "output_type": "execute_result"
    }
   ],
   "source": [
    "df['veil-type'] = df['veil-type'].replace(['p'],['partial'])\n",
    "df['veil-type']"
   ]
  },
  {
   "attachments": {},
   "cell_type": "markdown",
   "metadata": {},
   "source": [
    "Here, it can be seen that there is just 1 veil type, i.e. partial this feature don't seem to be contributing more. It can be removed if needed"
   ]
  },
  {
   "cell_type": "code",
   "execution_count": 44,
   "metadata": {},
   "outputs": [
    {
     "data": {
      "text/plain": [
       "array(['w', 'n', 'o', 'y'], dtype=object)"
      ]
     },
     "execution_count": 44,
     "metadata": {},
     "output_type": "execute_result"
    }
   ],
   "source": [
    "#18. veil color\n",
    "df[\"veil-color\"].unique()"
   ]
  },
  {
   "cell_type": "code",
   "execution_count": 45,
   "metadata": {},
   "outputs": [
    {
     "data": {
      "text/plain": [
       "0        white\n",
       "1        white\n",
       "2        white\n",
       "3        white\n",
       "4        white\n",
       "         ...  \n",
       "8119    orange\n",
       "8120     brown\n",
       "8121    orange\n",
       "8122     white\n",
       "8123    orange\n",
       "Name: veil-color, Length: 8124, dtype: object"
      ]
     },
     "execution_count": 45,
     "metadata": {},
     "output_type": "execute_result"
    }
   ],
   "source": [
    "df['veil-color'] = df['veil-color'].replace(['n','o','w','y'],['brown','orange','white','yellow'])\n",
    "df['veil-color']"
   ]
  },
  {
   "cell_type": "code",
   "execution_count": 46,
   "metadata": {},
   "outputs": [
    {
     "data": {
      "text/plain": [
       "array(['o', 't', 'n'], dtype=object)"
      ]
     },
     "execution_count": 46,
     "metadata": {},
     "output_type": "execute_result"
    }
   ],
   "source": [
    "#19. ring number\n",
    "df[\"ring-number\"].unique()"
   ]
  },
  {
   "cell_type": "code",
   "execution_count": 47,
   "metadata": {},
   "outputs": [
    {
     "data": {
      "text/plain": [
       "0       one\n",
       "1       one\n",
       "2       one\n",
       "3       one\n",
       "4       one\n",
       "       ... \n",
       "8119    one\n",
       "8120    one\n",
       "8121    one\n",
       "8122    one\n",
       "8123    one\n",
       "Name: ring-number, Length: 8124, dtype: object"
      ]
     },
     "execution_count": 47,
     "metadata": {},
     "output_type": "execute_result"
    }
   ],
   "source": [
    "df['ring-number'] = df['ring-number'].replace(['n','o','t'],['none','one','two'])\n",
    "df['ring-number']"
   ]
  },
  {
   "cell_type": "code",
   "execution_count": 48,
   "metadata": {},
   "outputs": [
    {
     "data": {
      "text/plain": [
       "array(['p', 'e', 'l', 'f', 'n'], dtype=object)"
      ]
     },
     "execution_count": 48,
     "metadata": {},
     "output_type": "execute_result"
    }
   ],
   "source": [
    "#20. ring type\n",
    "df[\"ring-type\"].unique()"
   ]
  },
  {
   "cell_type": "code",
   "execution_count": 49,
   "metadata": {},
   "outputs": [
    {
     "data": {
      "text/plain": [
       "0          pendant\n",
       "1          pendant\n",
       "2          pendant\n",
       "3          pendant\n",
       "4       evanescent\n",
       "           ...    \n",
       "8119       pendant\n",
       "8120       pendant\n",
       "8121       pendant\n",
       "8122    evanescent\n",
       "8123       pendant\n",
       "Name: ring-type, Length: 8124, dtype: object"
      ]
     },
     "execution_count": 49,
     "metadata": {},
     "output_type": "execute_result"
    }
   ],
   "source": [
    "df['ring-type'] = df['ring-type'].replace(['e','f','l','n','p'],['evanescent','flaring','large','none','pendant'])\n",
    "df['ring-type']"
   ]
  },
  {
   "cell_type": "code",
   "execution_count": 50,
   "metadata": {},
   "outputs": [
    {
     "data": {
      "text/plain": [
       "array(['k', 'n', 'u', 'h', 'w', 'r', 'o', 'y', 'b'], dtype=object)"
      ]
     },
     "execution_count": 50,
     "metadata": {},
     "output_type": "execute_result"
    }
   ],
   "source": [
    "#21. spore print color\n",
    "df[\"spore-print-color\"].unique()"
   ]
  },
  {
   "cell_type": "code",
   "execution_count": 51,
   "metadata": {},
   "outputs": [
    {
     "data": {
      "text/plain": [
       "0        black\n",
       "1        brown\n",
       "2        brown\n",
       "3        black\n",
       "4        brown\n",
       "         ...  \n",
       "8119      buff\n",
       "8120      buff\n",
       "8121      buff\n",
       "8122     white\n",
       "8123    orange\n",
       "Name: spore-print-color, Length: 8124, dtype: object"
      ]
     },
     "execution_count": 51,
     "metadata": {},
     "output_type": "execute_result"
    }
   ],
   "source": [
    "df['spore-print-color'] = df['spore-print-color'].replace(['k','n','b','h','r','o','u','w','y'],['black','brown','buff','chocolate','green','orange','purple','white','yellow'])\n",
    "df['spore-print-color']"
   ]
  },
  {
   "cell_type": "code",
   "execution_count": 52,
   "metadata": {},
   "outputs": [
    {
     "data": {
      "text/plain": [
       "array(['s', 'n', 'a', 'v', 'y', 'c'], dtype=object)"
      ]
     },
     "execution_count": 52,
     "metadata": {},
     "output_type": "execute_result"
    }
   ],
   "source": [
    "#22. population\n",
    "df[\"population\"].unique()"
   ]
  },
  {
   "cell_type": "code",
   "execution_count": 53,
   "metadata": {},
   "outputs": [
    {
     "data": {
      "text/plain": [
       "0       scattered\n",
       "1        numerous\n",
       "2        numerous\n",
       "3       scattered\n",
       "4        abundant\n",
       "          ...    \n",
       "8119    clustered\n",
       "8120      several\n",
       "8121    clustered\n",
       "8122      several\n",
       "8123    clustered\n",
       "Name: population, Length: 8124, dtype: object"
      ]
     },
     "execution_count": 53,
     "metadata": {},
     "output_type": "execute_result"
    }
   ],
   "source": [
    "df['population'] = df['population'].replace(['a','c','n','s','v','y'],['abundant','clustered','numerous','scattered','several','solitary'])\n",
    "df['population']"
   ]
  },
  {
   "cell_type": "code",
   "execution_count": 54,
   "metadata": {},
   "outputs": [
    {
     "data": {
      "text/plain": [
       "array(['u', 'g', 'm', 'd', 'p', 'w', 'l'], dtype=object)"
      ]
     },
     "execution_count": 54,
     "metadata": {},
     "output_type": "execute_result"
    }
   ],
   "source": [
    "#23. habitat\n",
    "df[\"habitat\"].unique()"
   ]
  },
  {
   "cell_type": "code",
   "execution_count": 55,
   "metadata": {},
   "outputs": [
    {
     "data": {
      "text/plain": [
       "0         urban\n",
       "1       grasses\n",
       "2       meadows\n",
       "3         urban\n",
       "4       grasses\n",
       "         ...   \n",
       "8119     leaves\n",
       "8120     leaves\n",
       "8121     leaves\n",
       "8122     leaves\n",
       "8123     leaves\n",
       "Name: habitat, Length: 8124, dtype: object"
      ]
     },
     "execution_count": 55,
     "metadata": {},
     "output_type": "execute_result"
    }
   ],
   "source": [
    "df['habitat'] = df['habitat'].replace(['g','l','m','p','u','w','d'],['grasses','leaves','meadows','paths','urban','waste','woods'])\n",
    "df['habitat']"
   ]
  },
  {
   "attachments": {},
   "cell_type": "markdown",
   "metadata": {},
   "source": [
    "All feature has been processed to it's significance name, we will cary variance & vizualizing techniques to get some insights"
   ]
  },
  {
   "cell_type": "code",
   "execution_count": 56,
   "metadata": {},
   "outputs": [
    {
     "data": {
      "text/html": [
       "<div>\n",
       "<style scoped>\n",
       "    .dataframe tbody tr th:only-of-type {\n",
       "        vertical-align: middle;\n",
       "    }\n",
       "\n",
       "    .dataframe tbody tr th {\n",
       "        vertical-align: top;\n",
       "    }\n",
       "\n",
       "    .dataframe thead th {\n",
       "        text-align: right;\n",
       "    }\n",
       "</style>\n",
       "<table border=\"1\" class=\"dataframe\">\n",
       "  <thead>\n",
       "    <tr style=\"text-align: right;\">\n",
       "      <th></th>\n",
       "      <th>class</th>\n",
       "      <th>cap-shape</th>\n",
       "      <th>cap-surface</th>\n",
       "      <th>cap-color</th>\n",
       "      <th>bruises</th>\n",
       "      <th>odor</th>\n",
       "      <th>gill-attachment</th>\n",
       "      <th>gill-spacing</th>\n",
       "      <th>gill-size</th>\n",
       "      <th>gill-color</th>\n",
       "      <th>...</th>\n",
       "      <th>stalk-surface-below-ring</th>\n",
       "      <th>stalk-color-above-ring</th>\n",
       "      <th>stalk-color-below-ring</th>\n",
       "      <th>veil-type</th>\n",
       "      <th>veil-color</th>\n",
       "      <th>ring-number</th>\n",
       "      <th>ring-type</th>\n",
       "      <th>spore-print-color</th>\n",
       "      <th>population</th>\n",
       "      <th>habitat</th>\n",
       "    </tr>\n",
       "  </thead>\n",
       "  <tbody>\n",
       "    <tr>\n",
       "      <th>0</th>\n",
       "      <td>poisonous</td>\n",
       "      <td>convex</td>\n",
       "      <td>smooth</td>\n",
       "      <td>brown</td>\n",
       "      <td>yes</td>\n",
       "      <td>pungent</td>\n",
       "      <td>free</td>\n",
       "      <td>close</td>\n",
       "      <td>narrow</td>\n",
       "      <td>black</td>\n",
       "      <td>...</td>\n",
       "      <td>smooth</td>\n",
       "      <td>white</td>\n",
       "      <td>white</td>\n",
       "      <td>partial</td>\n",
       "      <td>white</td>\n",
       "      <td>one</td>\n",
       "      <td>pendant</td>\n",
       "      <td>black</td>\n",
       "      <td>scattered</td>\n",
       "      <td>urban</td>\n",
       "    </tr>\n",
       "    <tr>\n",
       "      <th>1</th>\n",
       "      <td>edible</td>\n",
       "      <td>convex</td>\n",
       "      <td>smooth</td>\n",
       "      <td>yellow</td>\n",
       "      <td>yes</td>\n",
       "      <td>almond</td>\n",
       "      <td>free</td>\n",
       "      <td>close</td>\n",
       "      <td>broad</td>\n",
       "      <td>black</td>\n",
       "      <td>...</td>\n",
       "      <td>smooth</td>\n",
       "      <td>white</td>\n",
       "      <td>white</td>\n",
       "      <td>partial</td>\n",
       "      <td>white</td>\n",
       "      <td>one</td>\n",
       "      <td>pendant</td>\n",
       "      <td>brown</td>\n",
       "      <td>numerous</td>\n",
       "      <td>grasses</td>\n",
       "    </tr>\n",
       "    <tr>\n",
       "      <th>2</th>\n",
       "      <td>edible</td>\n",
       "      <td>bell</td>\n",
       "      <td>smooth</td>\n",
       "      <td>white</td>\n",
       "      <td>yes</td>\n",
       "      <td>anise</td>\n",
       "      <td>free</td>\n",
       "      <td>close</td>\n",
       "      <td>broad</td>\n",
       "      <td>brown</td>\n",
       "      <td>...</td>\n",
       "      <td>smooth</td>\n",
       "      <td>white</td>\n",
       "      <td>white</td>\n",
       "      <td>partial</td>\n",
       "      <td>white</td>\n",
       "      <td>one</td>\n",
       "      <td>pendant</td>\n",
       "      <td>brown</td>\n",
       "      <td>numerous</td>\n",
       "      <td>meadows</td>\n",
       "    </tr>\n",
       "    <tr>\n",
       "      <th>3</th>\n",
       "      <td>poisonous</td>\n",
       "      <td>convex</td>\n",
       "      <td>scaly</td>\n",
       "      <td>white</td>\n",
       "      <td>yes</td>\n",
       "      <td>pungent</td>\n",
       "      <td>free</td>\n",
       "      <td>close</td>\n",
       "      <td>narrow</td>\n",
       "      <td>brown</td>\n",
       "      <td>...</td>\n",
       "      <td>smooth</td>\n",
       "      <td>white</td>\n",
       "      <td>white</td>\n",
       "      <td>partial</td>\n",
       "      <td>white</td>\n",
       "      <td>one</td>\n",
       "      <td>pendant</td>\n",
       "      <td>black</td>\n",
       "      <td>scattered</td>\n",
       "      <td>urban</td>\n",
       "    </tr>\n",
       "    <tr>\n",
       "      <th>4</th>\n",
       "      <td>edible</td>\n",
       "      <td>convex</td>\n",
       "      <td>smooth</td>\n",
       "      <td>gray</td>\n",
       "      <td>no</td>\n",
       "      <td>none</td>\n",
       "      <td>free</td>\n",
       "      <td>crowded</td>\n",
       "      <td>broad</td>\n",
       "      <td>black</td>\n",
       "      <td>...</td>\n",
       "      <td>smooth</td>\n",
       "      <td>white</td>\n",
       "      <td>white</td>\n",
       "      <td>partial</td>\n",
       "      <td>white</td>\n",
       "      <td>one</td>\n",
       "      <td>evanescent</td>\n",
       "      <td>brown</td>\n",
       "      <td>abundant</td>\n",
       "      <td>grasses</td>\n",
       "    </tr>\n",
       "    <tr>\n",
       "      <th>...</th>\n",
       "      <td>...</td>\n",
       "      <td>...</td>\n",
       "      <td>...</td>\n",
       "      <td>...</td>\n",
       "      <td>...</td>\n",
       "      <td>...</td>\n",
       "      <td>...</td>\n",
       "      <td>...</td>\n",
       "      <td>...</td>\n",
       "      <td>...</td>\n",
       "      <td>...</td>\n",
       "      <td>...</td>\n",
       "      <td>...</td>\n",
       "      <td>...</td>\n",
       "      <td>...</td>\n",
       "      <td>...</td>\n",
       "      <td>...</td>\n",
       "      <td>...</td>\n",
       "      <td>...</td>\n",
       "      <td>...</td>\n",
       "      <td>...</td>\n",
       "    </tr>\n",
       "    <tr>\n",
       "      <th>8119</th>\n",
       "      <td>edible</td>\n",
       "      <td>knobbed</td>\n",
       "      <td>smooth</td>\n",
       "      <td>brown</td>\n",
       "      <td>no</td>\n",
       "      <td>none</td>\n",
       "      <td>attached</td>\n",
       "      <td>close</td>\n",
       "      <td>broad</td>\n",
       "      <td>yellow</td>\n",
       "      <td>...</td>\n",
       "      <td>smooth</td>\n",
       "      <td>orange</td>\n",
       "      <td>orange</td>\n",
       "      <td>partial</td>\n",
       "      <td>orange</td>\n",
       "      <td>one</td>\n",
       "      <td>pendant</td>\n",
       "      <td>buff</td>\n",
       "      <td>clustered</td>\n",
       "      <td>leaves</td>\n",
       "    </tr>\n",
       "    <tr>\n",
       "      <th>8120</th>\n",
       "      <td>edible</td>\n",
       "      <td>convex</td>\n",
       "      <td>smooth</td>\n",
       "      <td>brown</td>\n",
       "      <td>no</td>\n",
       "      <td>none</td>\n",
       "      <td>attached</td>\n",
       "      <td>close</td>\n",
       "      <td>broad</td>\n",
       "      <td>yellow</td>\n",
       "      <td>...</td>\n",
       "      <td>smooth</td>\n",
       "      <td>orange</td>\n",
       "      <td>orange</td>\n",
       "      <td>partial</td>\n",
       "      <td>brown</td>\n",
       "      <td>one</td>\n",
       "      <td>pendant</td>\n",
       "      <td>buff</td>\n",
       "      <td>several</td>\n",
       "      <td>leaves</td>\n",
       "    </tr>\n",
       "    <tr>\n",
       "      <th>8121</th>\n",
       "      <td>edible</td>\n",
       "      <td>flat</td>\n",
       "      <td>smooth</td>\n",
       "      <td>brown</td>\n",
       "      <td>no</td>\n",
       "      <td>none</td>\n",
       "      <td>attached</td>\n",
       "      <td>close</td>\n",
       "      <td>broad</td>\n",
       "      <td>brown</td>\n",
       "      <td>...</td>\n",
       "      <td>smooth</td>\n",
       "      <td>orange</td>\n",
       "      <td>orange</td>\n",
       "      <td>partial</td>\n",
       "      <td>orange</td>\n",
       "      <td>one</td>\n",
       "      <td>pendant</td>\n",
       "      <td>buff</td>\n",
       "      <td>clustered</td>\n",
       "      <td>leaves</td>\n",
       "    </tr>\n",
       "    <tr>\n",
       "      <th>8122</th>\n",
       "      <td>poisonous</td>\n",
       "      <td>knobbed</td>\n",
       "      <td>scaly</td>\n",
       "      <td>brown</td>\n",
       "      <td>no</td>\n",
       "      <td>fishy</td>\n",
       "      <td>free</td>\n",
       "      <td>close</td>\n",
       "      <td>narrow</td>\n",
       "      <td>buff</td>\n",
       "      <td>...</td>\n",
       "      <td>silky</td>\n",
       "      <td>white</td>\n",
       "      <td>white</td>\n",
       "      <td>partial</td>\n",
       "      <td>white</td>\n",
       "      <td>one</td>\n",
       "      <td>evanescent</td>\n",
       "      <td>white</td>\n",
       "      <td>several</td>\n",
       "      <td>leaves</td>\n",
       "    </tr>\n",
       "    <tr>\n",
       "      <th>8123</th>\n",
       "      <td>edible</td>\n",
       "      <td>convex</td>\n",
       "      <td>smooth</td>\n",
       "      <td>brown</td>\n",
       "      <td>no</td>\n",
       "      <td>none</td>\n",
       "      <td>attached</td>\n",
       "      <td>close</td>\n",
       "      <td>broad</td>\n",
       "      <td>yellow</td>\n",
       "      <td>...</td>\n",
       "      <td>smooth</td>\n",
       "      <td>orange</td>\n",
       "      <td>orange</td>\n",
       "      <td>partial</td>\n",
       "      <td>orange</td>\n",
       "      <td>one</td>\n",
       "      <td>pendant</td>\n",
       "      <td>orange</td>\n",
       "      <td>clustered</td>\n",
       "      <td>leaves</td>\n",
       "    </tr>\n",
       "  </tbody>\n",
       "</table>\n",
       "<p>8124 rows × 23 columns</p>\n",
       "</div>"
      ],
      "text/plain": [
       "          class cap-shape cap-surface cap-color bruises     odor  \\\n",
       "0     poisonous    convex      smooth     brown     yes  pungent   \n",
       "1        edible    convex      smooth    yellow     yes   almond   \n",
       "2        edible      bell      smooth     white     yes    anise   \n",
       "3     poisonous    convex       scaly     white     yes  pungent   \n",
       "4        edible    convex      smooth      gray      no     none   \n",
       "...         ...       ...         ...       ...     ...      ...   \n",
       "8119     edible   knobbed      smooth     brown      no     none   \n",
       "8120     edible    convex      smooth     brown      no     none   \n",
       "8121     edible      flat      smooth     brown      no     none   \n",
       "8122  poisonous   knobbed       scaly     brown      no    fishy   \n",
       "8123     edible    convex      smooth     brown      no     none   \n",
       "\n",
       "     gill-attachment gill-spacing gill-size gill-color  ...  \\\n",
       "0               free        close    narrow      black  ...   \n",
       "1               free        close     broad      black  ...   \n",
       "2               free        close     broad      brown  ...   \n",
       "3               free        close    narrow      brown  ...   \n",
       "4               free      crowded     broad      black  ...   \n",
       "...              ...          ...       ...        ...  ...   \n",
       "8119        attached        close     broad     yellow  ...   \n",
       "8120        attached        close     broad     yellow  ...   \n",
       "8121        attached        close     broad      brown  ...   \n",
       "8122            free        close    narrow       buff  ...   \n",
       "8123        attached        close     broad     yellow  ...   \n",
       "\n",
       "     stalk-surface-below-ring stalk-color-above-ring stalk-color-below-ring  \\\n",
       "0                      smooth                  white                  white   \n",
       "1                      smooth                  white                  white   \n",
       "2                      smooth                  white                  white   \n",
       "3                      smooth                  white                  white   \n",
       "4                      smooth                  white                  white   \n",
       "...                       ...                    ...                    ...   \n",
       "8119                   smooth                 orange                 orange   \n",
       "8120                   smooth                 orange                 orange   \n",
       "8121                   smooth                 orange                 orange   \n",
       "8122                    silky                  white                  white   \n",
       "8123                   smooth                 orange                 orange   \n",
       "\n",
       "     veil-type veil-color ring-number   ring-type spore-print-color  \\\n",
       "0      partial      white         one     pendant             black   \n",
       "1      partial      white         one     pendant             brown   \n",
       "2      partial      white         one     pendant             brown   \n",
       "3      partial      white         one     pendant             black   \n",
       "4      partial      white         one  evanescent             brown   \n",
       "...        ...        ...         ...         ...               ...   \n",
       "8119   partial     orange         one     pendant              buff   \n",
       "8120   partial      brown         one     pendant              buff   \n",
       "8121   partial     orange         one     pendant              buff   \n",
       "8122   partial      white         one  evanescent             white   \n",
       "8123   partial     orange         one     pendant            orange   \n",
       "\n",
       "     population  habitat  \n",
       "0     scattered    urban  \n",
       "1      numerous  grasses  \n",
       "2      numerous  meadows  \n",
       "3     scattered    urban  \n",
       "4      abundant  grasses  \n",
       "...         ...      ...  \n",
       "8119  clustered   leaves  \n",
       "8120    several   leaves  \n",
       "8121  clustered   leaves  \n",
       "8122    several   leaves  \n",
       "8123  clustered   leaves  \n",
       "\n",
       "[8124 rows x 23 columns]"
      ]
     },
     "execution_count": 56,
     "metadata": {},
     "output_type": "execute_result"
    }
   ],
   "source": [
    "df #view the transform data"
   ]
  },
  {
   "attachments": {},
   "cell_type": "markdown",
   "metadata": {},
   "source": [
    "### 6. Univariant / Multivariant Analysis"
   ]
  },
  {
   "cell_type": "code",
   "execution_count": 57,
   "metadata": {},
   "outputs": [
    {
     "data": {
      "text/plain": [
       "<Axes: xlabel='class', ylabel='count'>"
      ]
     },
     "execution_count": 57,
     "metadata": {},
     "output_type": "execute_result"
    },
    {
     "data": {
      "image/png": "[encoded data removed]",
      "text/plain": [
       "<Figure size 400x400 with 1 Axes>"
      ]
     },
     "metadata": {},
     "output_type": "display_data"
    }
   ],
   "source": [
    "#to get count plot for label distribution to identify distribution \n",
    "plt.figure(figsize=(4,4))\n",
    "sns.countplot(data=df, x=df['class'], palette=\"dark\")"
   ]
  },
  {
   "attachments": {},
   "cell_type": "markdown",
   "metadata": {},
   "source": [
    "Data seems to be balance with distribution, with poisonous having about 3900 & edible having around 4300."
   ]
  },
  {
   "cell_type": "markdown",
   "metadata": {},
   "source": [
    "### 7. Data Visualization"
   ]
  },
  {
   "attachments": {},
   "cell_type": "markdown",
   "metadata": {},
   "source": [
    "We will create count plot chart of each feature against edible & poisonous which can give meaningful insights about distribution"
   ]
  },
  {
   "cell_type": "code",
   "execution_count": 58,
   "metadata": {},
   "outputs": [
    {
     "data": {
      "image/png": "[encoded data removed]",
      "text/plain": [
       "<Figure size 1200x4400 with 22 Axes>"
      ]
     },
     "metadata": {},
     "output_type": "display_data"
    }
   ],
   "source": [
    "features = df.columns.tolist()  # Get a list of all column names\n",
    "\n",
    "# Remove the \"class\" column from the list of features\n",
    "features.remove(\"class\")\n",
    "\n",
    "# Calculate the number of rows needed\n",
    "num_rows = (len(features) + 1) // 2\n",
    "\n",
    "# Set the figure size\n",
    "plt.figure(figsize=(12, num_rows * 4))  # Adjust the figure size as needed\n",
    "\n",
    "# Iterate through each feature and create a countplot\n",
    "for i, feature in enumerate(features, start=1):\n",
    "    plt.subplot(num_rows, 2, i)\n",
    "    sns.countplot(data=df, x=feature, hue='class')\n",
    "    plt.xlabel(feature)\n",
    "    plt.ylabel('Count')\n",
    "    plt.legend(title='Class')\n",
    "\n",
    "# Adjust the spacing between subplots\n",
    "plt.tight_layout()"
   ]
  },
  {
   "attachments": {},
   "cell_type": "markdown",
   "metadata": {},
   "source": [
    "### 8. Summary & Insights"
   ]
  },
  {
   "attachments": {},
   "cell_type": "markdown",
   "metadata": {},
   "source": [
    "#### Data Analysis from countplot \n",
    "\n",
    "1. cap-shape: It is mostly consist of convex & flat cap-shape, which almost look balanced with respective poisonous & eatable. Data almost has least conical & sunken cap-shape mushrooms so getting seen as less significance. \n",
    "\n",
    "2. cap-surface: Data mostly has smooth, scaly & fibrous cap-surfaces which almost look balance between poisonous & edible also getting seen as less significance to mushroom class\n",
    "\n",
    "3. cap-color: It has variety of cap-color, having somewhat difference comparing both, may be contributing to class.\n",
    "\n",
    "4. bruises: The nice significance getting seen as if it is having bruises it is having more chance of getting eatable while if it doesn't have bruishes, it is more chance of being poisonous.\n",
    "\n",
    "5. odor: It may be highest significance contributing as few features are almost contibuting to single class. i.e. like if it's odor is almond, anise or none, it is high chance that mushroom is eatable, while if odor is foul, cerosote, fishy, spicy or musty, it is high that mushroom is poisonous. So looking at the counter plot, this feature is getting seen as the most significance one.\n",
    "\n",
    "6. gill-attachment: Classes is seen almost balance between edible & poisonous. So it seems less significance. \n",
    "\n",
    "7. gill-spacing: Here also classes split sees balance but sees somewhat high chance of crowded being edible but can't tell significance as there is less number of data.\n",
    "\n",
    "8. gill-size: There sees somewhat some imbalance with class, where narrow contributing more to poisonous while broad contributing to edible. It can be seen as somewhat significance to contributing to class.\n",
    "\n",
    "9. gill-color: The seems balance to class for some color with some color contributing more to some class, but major takeaway can be seen as \"buff\" color which is contributing fully to poisonous class. So it can be takeaway if gill-color is \"buff\", mushroom is highly likely to be poisonous. \n",
    "\n",
    "10. stalk-shape: Data seems balance between classes, so can't be seen as significance to class.\n",
    "\n",
    "11. stalk-root: Bulbous seems balance between two, while \"equal\", \"club\", \"rooted\" seems contributing more to edible class, while \"missing\" seem more chance contributing to poisonous.\n",
    "\n",
    "12. stalk-surface-above-ring: \"smooth\" seems more contribution to edible while \"silky\" seeks more probability of been poisonous.\n",
    "\n",
    "13. stalk-surface-below ring: Likewise above feature of stak-surface-above ring is distributed similar kind counterplot with features. So it can be tell that both features are almost similar type (May be 1 can be use during final approach)\n",
    "\n",
    "14. stalk-color-above-ring: \"White\"  &  \"Pink\" seems some high-low balance between features rest colors sees bias towards 1 class, i.e. edible or poisonous\n",
    "\n",
    "15. stalk-color-below-ring: Countplot is similar with feature of \"stalk-color-above-ring\". (so like above any 1 feature can be use during final apporach)\n",
    "\n",
    "16. veil-type: It is having only 1 category i.e. \"partial\" accross, so can't have any significance. (It can be removed during final approach)\n",
    "\n",
    "17. veil-color: \"White\" color seems balance between class, while others significance can't be said as they are less in number. \n",
    "\n",
    "18. ring-number: Most data consist of \"one-ring\" & it seems balance between classes. \n",
    "\n",
    "19. ring-type: \"pendant\" type ring seems contributing more to edible class while \"large\" rings is mostly poisonous class. \n",
    "\n",
    "20. spore-print-color: \"black\" & \"brown\" seems to contribute more to edible class while \"chocolate\" & \"white\" seems to contribute to \"poisonous\" class. \n",
    "\n",
    "21. population: Almost all category seems balance while \"several\" contributing more to poisonous & \"numerous\" & \"abundant\" contributing only  to edible.\n",
    "\n",
    "22. habitat: Just \"waste\" category having edible class but also with less numbers, significance can't be determined."
   ]
  },
  {
   "attachments": {},
   "cell_type": "markdown",
   "metadata": {},
   "source": [
    "#### Feature selection Analysis:\n",
    "From above analysis, the features that seems highly contributing to class detection can be:\n",
    "\n",
    "1. bruises\n",
    "2. odor\n",
    "3. gill-size \n",
    "4. gill-color\n",
    "5. stalk-surface-above-ring or stalk-surface-below-ring (Any one)\n",
    "6. stalk-color-above-ring or stalk-color-below-ring (any one)\n",
    "7. ring type\n",
    "8. spore-print-color\n",
    "9. ring-type\n",
    "10. population"
   ]
  },
  {
   "attachments": {},
   "cell_type": "markdown",
   "metadata": {},
   "source": [
    "### Model Selection Analysis:\n",
    "\n",
    "From above features, it suggest classifier which can perform well are not decision based on feature (calculation entropy & information gain). The model that can prove best are:\n",
    "\n",
    "1. Decision Tree\n",
    "2. Random Forest"
   ]
  },
  {
   "cell_type": "markdown",
   "metadata": {},
   "source": [
    "## Model Building Process"
   ]
  },
  {
   "attachments": {},
   "cell_type": "markdown",
   "metadata": {},
   "source": [
    "### 9. Data Transformation"
   ]
  },
  {
   "attachments": {},
   "cell_type": "markdown",
   "metadata": {},
   "source": [
    "Will chose data Transformation technique, which is relevant, here it seems to be Label Encoding, where we are having different features. We will transform data as per that.\n",
    "\n",
    "- Note: During creating pipelin, we will select Oridnal encoding, because it doesnt support Label Encoding"
   ]
  },
  {
   "cell_type": "code",
   "execution_count": 59,
   "metadata": {},
   "outputs": [],
   "source": [
    "from sklearn.preprocessing import LabelEncoder #For importing Label Encoding\n",
    "le = LabelEncoder()\n",
    "for i in df.columns:\n",
    "    df[i] = le.fit_transform(df[i]) #Fitting model into data"
   ]
  },
  {
   "cell_type": "code",
   "execution_count": 60,
   "metadata": {},
   "outputs": [],
   "source": [
    "#Separating dependent & independent data\n",
    "X = df.drop(\"class\", axis = 1)\n",
    "y = df[\"class\"]"
   ]
  },
  {
   "attachments": {},
   "cell_type": "markdown",
   "metadata": {},
   "source": [
    "0 is for edible class\n",
    "1 is for poisonous class"
   ]
  },
  {
   "attachments": {},
   "cell_type": "markdown",
   "metadata": {},
   "source": [
    "### 10. Feature Selection "
   ]
  },
  {
   "attachments": {},
   "cell_type": "markdown",
   "metadata": {},
   "source": [
    "Above we finded about 10 important features, this techniques can also be used to reduce the dimension of the data, which can be done PCA (Pricipal Component Analysis), where we will select 10 components which divides to the ratio"
   ]
  },
  {
   "cell_type": "code",
   "execution_count": 61,
   "metadata": {},
   "outputs": [],
   "source": [
    "from sklearn.decomposition import PCA #importing PCA\n",
    "pca = PCA(n_components=10)\n",
    "pca_fit = pca.fit_transform(X) #Transforming PCA to dependent features"
   ]
  },
  {
   "cell_type": "code",
   "execution_count": 62,
   "metadata": {},
   "outputs": [
    {
     "data": {
      "text/plain": [
       "array([0.2388711 , 0.20788412, 0.14265078, 0.13125479, 0.08993553,\n",
       "       0.05589716, 0.02931427, 0.02735359, 0.01776144, 0.01524282])"
      ]
     },
     "execution_count": 62,
     "metadata": {},
     "output_type": "execute_result"
    }
   ],
   "source": [
    "pca.explained_variance_ratio_ #to check the ratio"
   ]
  },
  {
   "attachments": {},
   "cell_type": "markdown",
   "metadata": {},
   "source": [
    "### 11. Data Splitting"
   ]
  },
  {
   "cell_type": "code",
   "execution_count": 63,
   "metadata": {},
   "outputs": [],
   "source": [
    "from sklearn.model_selection import train_test_split #importing train test split\n",
    "X_train, X_test, y_train, y_test = train_test_split(pca_fit, y, test_size= 0.3, random_state= 10) #splitting data into train & test"
   ]
  },
  {
   "cell_type": "code",
   "execution_count": 64,
   "metadata": {},
   "outputs": [
    {
     "data": {
      "text/plain": [
       "array([[-4.19778381e+00,  2.69622605e+00,  2.98352310e+00, ...,\n",
       "        -9.65205973e-02, -2.35113876e-01,  4.98873654e-04],\n",
       "       [ 7.50445701e+00,  5.05611436e-01, -7.09525421e-02, ...,\n",
       "         2.59035085e+00, -8.30297583e-01, -1.65677971e-01],\n",
       "       [-2.89371254e-01, -8.09725459e-01, -9.97317445e-01, ...,\n",
       "         8.15280294e-01, -1.61149348e+00,  5.64865153e-01],\n",
       "       ...,\n",
       "       [-3.23647571e-01, -1.52865133e-01,  5.00381461e+00, ...,\n",
       "        -5.45961278e-01,  2.04167548e-01, -1.07785476e+00],\n",
       "       [-3.55463546e-02, -2.54943387e+00, -3.03997261e+00, ...,\n",
       "         5.57601974e-01,  3.67776973e-01,  5.77614609e-01],\n",
       "       [-3.40466406e+00,  5.06903635e+00, -3.30035322e+00, ...,\n",
       "        -9.41002666e-01,  2.08983860e+00,  3.30738268e-02]])"
      ]
     },
     "execution_count": 64,
     "metadata": {},
     "output_type": "execute_result"
    }
   ],
   "source": [
    "X_train #viewing X_train data"
   ]
  },
  {
   "cell_type": "code",
   "execution_count": 65,
   "metadata": {},
   "outputs": [
    {
     "data": {
      "text/plain": [
       "array([[-1.80433051,  6.67914716, -3.53271282, ...,  0.4236522 ,\n",
       "         0.40483837,  0.94734024],\n",
       "       [ 1.94852066, -4.74103034, -4.05005549, ...,  0.10692704,\n",
       "         1.51724354, -0.62820263],\n",
       "       [-3.13433725,  5.00428062, -2.67940609, ..., -0.40972648,\n",
       "         0.9226979 , -1.40857153],\n",
       "       ...,\n",
       "       [-1.3030106 ,  1.13791261, -2.31906427, ...,  1.30935702,\n",
       "        -0.12665313, -0.77923115],\n",
       "       [ 1.37745288,  2.57776028,  3.68738342, ...,  0.45779745,\n",
       "         1.56930666,  0.25506782],\n",
       "       [ 5.02886967,  4.58047805, -4.10563236, ..., -0.3712228 ,\n",
       "         1.18729321,  0.0786676 ]])"
      ]
     },
     "execution_count": 65,
     "metadata": {},
     "output_type": "execute_result"
    }
   ],
   "source": [
    "X_test #viewing X_test"
   ]
  },
  {
   "attachments": {},
   "cell_type": "markdown",
   "metadata": {},
   "source": [
    "### 12. Model Selection"
   ]
  },
  {
   "cell_type": "code",
   "execution_count": 66,
   "metadata": {},
   "outputs": [],
   "source": [
    "#selecting different model for training the model\n",
    "from sklearn.linear_model import LogisticRegression\n",
    "from sklearn.neighbors import KNeighborsClassifier\n",
    "from sklearn.svm import SVC\n",
    "from sklearn.tree import DecisionTreeClassifier\n",
    "from sklearn.ensemble import RandomForestClassifier\n",
    "from sklearn.ensemble import GradientBoostingClassifier"
   ]
  },
  {
   "cell_type": "code",
   "execution_count": 67,
   "metadata": {},
   "outputs": [],
   "source": [
    "#Initalizing all models\n",
    "LR = LogisticRegression()\n",
    "KN = KNeighborsClassifier()\n",
    "SV = SVC()\n",
    "DT = DecisionTreeClassifier()\n",
    "RF = RandomForestClassifier()\n",
    "GB = GradientBoostingClassifier()"
   ]
  },
  {
   "attachments": {},
   "cell_type": "markdown",
   "metadata": {},
   "source": [
    "### 13. Model Training "
   ]
  },
  {
   "cell_type": "code",
   "execution_count": 68,
   "metadata": {},
   "outputs": [
    {
     "data": {
      "text/html": [
       "<style>#sk-container-id-1 {color: black;}#sk-container-id-1 pre{padding: 0;}#sk-container-id-1 div.sk-toggleable {background-color: white;}#sk-container-id-1 label.sk-toggleable__label {cursor: pointer;display: block;width: 100%;margin-bottom: 0;padding: 0.3em;box-sizing: border-box;text-align: center;}#sk-container-id-1 label.sk-toggleable__label-arrow:before {content: \"▸\";float: left;margin-right: 0.25em;color: #696969;}#sk-container-id-1 label.sk-toggleable__label-arrow:hover:before {color: black;}#sk-container-id-1 div.sk-estimator:hover label.sk-toggleable__label-arrow:before {color: black;}#sk-container-id-1 div.sk-toggleable__content {max-height: 0;max-width: 0;overflow: hidden;text-align: left;background-color: #f0f8ff;}#sk-container-id-1 div.sk-toggleable__content pre {margin: 0.2em;color: black;border-radius: 0.25em;background-color: #f0f8ff;}#sk-container-id-1 input.sk-toggleable__control:checked~div.sk-toggleable__content {max-height: 200px;max-width: 100%;overflow: auto;}#sk-container-id-1 input.sk-toggleable__control:checked~label.sk-toggleable__label-arrow:before {content: \"▾\";}#sk-container-id-1 div.sk-estimator input.sk-toggleable__control:checked~label.sk-toggleable__label {background-color: #d4ebff;}#sk-container-id-1 div.sk-label input.sk-toggleable__control:checked~label.sk-toggleable__label {background-color: #d4ebff;}#sk-container-id-1 input.sk-hidden--visually {border: 0;clip: rect(1px 1px 1px 1px);clip: rect(1px, 1px, 1px, 1px);height: 1px;margin: -1px;overflow: hidden;padding: 0;position: absolute;width: 1px;}#sk-container-id-1 div.sk-estimator {font-family: monospace;background-color: #f0f8ff;border: 1px dotted black;border-radius: 0.25em;box-sizing: border-box;margin-bottom: 0.5em;}#sk-container-id-1 div.sk-estimator:hover {background-color: #d4ebff;}#sk-container-id-1 div.sk-parallel-item::after {content: \"\";width: 100%;border-bottom: 1px solid gray;flex-grow: 1;}#sk-container-id-1 div.sk-label:hover label.sk-toggleable__label {background-color: #d4ebff;}#sk-container-id-1 div.sk-serial::before {content: \"\";position: absolute;border-left: 1px solid gray;box-sizing: border-box;top: 0;bottom: 0;left: 50%;z-index: 0;}#sk-container-id-1 div.sk-serial {display: flex;flex-direction: column;align-items: center;background-color: white;padding-right: 0.2em;padding-left: 0.2em;position: relative;}#sk-container-id-1 div.sk-item {position: relative;z-index: 1;}#sk-container-id-1 div.sk-parallel {display: flex;align-items: stretch;justify-content: center;background-color: white;position: relative;}#sk-container-id-1 div.sk-item::before, #sk-container-id-1 div.sk-parallel-item::before {content: \"\";position: absolute;border-left: 1px solid gray;box-sizing: border-box;top: 0;bottom: 0;left: 50%;z-index: -1;}#sk-container-id-1 div.sk-parallel-item {display: flex;flex-direction: column;z-index: 1;position: relative;background-color: white;}#sk-container-id-1 div.sk-parallel-item:first-child::after {align-self: flex-end;width: 50%;}#sk-container-id-1 div.sk-parallel-item:last-child::after {align-self: flex-start;width: 50%;}#sk-container-id-1 div.sk-parallel-item:only-child::after {width: 0;}#sk-container-id-1 div.sk-dashed-wrapped {border: 1px dashed gray;margin: 0 0.4em 0.5em 0.4em;box-sizing: border-box;padding-bottom: 0.4em;background-color: white;}#sk-container-id-1 div.sk-label label {font-family: monospace;font-weight: bold;display: inline-block;line-height: 1.2em;}#sk-container-id-1 div.sk-label-container {text-align: center;}#sk-container-id-1 div.sk-container {/* jupyter's `normalize.less` sets `[hidden] { display: none; }` but bootstrap.min.css set `[hidden] { display: none !important; }` so we also need the `!important` here to be able to override the default hidden behavior on the sphinx rendered scikit-learn.org. See: https://github.com/scikit-learn/scikit-learn/issues/21755 */display: inline-block !important;position: relative;}#sk-container-id-1 div.sk-text-repr-fallback {display: none;}</style><div id=\"sk-container-id-1\" class=\"sk-top-container\"><div class=\"sk-text-repr-fallback\"><pre>GradientBoostingClassifier()</pre><b>In a Jupyter environment, please rerun this cell to show the HTML representation or trust the notebook. <br />On GitHub, the HTML representation is unable to render, please try loading this page with nbviewer.org.</b></div><div class=\"sk-container\" hidden><div class=\"sk-item\"><div class=\"sk-estimator sk-toggleable\"><input class=\"sk-toggleable__control sk-hidden--visually\" id=\"sk-estimator-id-1\" type=\"checkbox\" checked><label for=\"sk-estimator-id-1\" class=\"sk-toggleable__label sk-toggleable__label-arrow\">GradientBoostingClassifier</label><div class=\"sk-toggleable__content\"><pre>GradientBoostingClassifier()</pre></div></div></div></div></div>"
      ],
      "text/plain": [
       "GradientBoostingClassifier()"
      ]
     },
     "execution_count": 68,
     "metadata": {},
     "output_type": "execute_result"
    }
   ],
   "source": [
    "#Training data with every above model\n",
    "\n",
    "LR.fit(X_train, y_train)\n",
    "KN.fit(X_train, y_train)\n",
    "SV.fit(X_train, y_train)\n",
    "DT.fit(X_train, y_train)\n",
    "RF.fit(X_train, y_train)\n",
    "GB.fit(X_train, y_train)"
   ]
  },
  {
   "cell_type": "code",
   "execution_count": 69,
   "metadata": {},
   "outputs": [],
   "source": [
    "#Prediction on testing set\n",
    "y_pred1 = LR.predict(X_test)\n",
    "y_pred2 = KN.predict(X_test)\n",
    "y_pred3 = SV.predict(X_test)\n",
    "y_pred4 = DT.predict(X_test)\n",
    "y_pred5 = RF.predict(X_test)\n",
    "y_pred6 = GB.predict(X_test)"
   ]
  },
  {
   "attachments": {},
   "cell_type": "markdown",
   "metadata": {},
   "source": [
    "### 14. Model Evaluation"
   ]
  },
  {
   "cell_type": "code",
   "execution_count": 70,
   "metadata": {},
   "outputs": [],
   "source": [
    "#Evaluating all algorithm\n",
    "from sklearn.metrics import accuracy_score #for evaluating matrix score"
   ]
  },
  {
   "cell_type": "code",
   "execution_count": 71,
   "metadata": {},
   "outputs": [
    {
     "name": "stdout",
     "output_type": "stream",
     "text": [
      "LR: 84.61999999999999 %\n",
      "KN: 99.96000000000001 %\n",
      "SV: 99.67 %\n",
      "DT: 98.61 %\n",
      "RF: 99.92 %\n",
      "GB: 98.72999999999999 %\n"
     ]
    }
   ],
   "source": [
    "#Testing out all model accuracy\n",
    "\n",
    "print(f\"LR: {round((accuracy_score(y_test, y_pred1)),4)*100} %\")\n",
    "print(f\"KN: {round((accuracy_score(y_test, y_pred2)),4)*100} %\")\n",
    "print(f\"SV: {round((accuracy_score(y_test, y_pred3)),4)*100} %\")\n",
    "print(f\"DT: {round((accuracy_score(y_test, y_pred4)),4)*100} %\")\n",
    "print(f\"RF: {round((accuracy_score(y_test, y_pred5)),4)*100} %\")\n",
    "print(f\"GB: {round((accuracy_score(y_test, y_pred6)),4)*100} %\")"
   ]
  },
  {
   "attachments": {},
   "cell_type": "markdown",
   "metadata": {},
   "source": [
    "### 15. Model Interpretation "
   ]
  },
  {
   "attachments": {},
   "cell_type": "markdown",
   "metadata": {},
   "source": [
    "As been recommended by above from EDA & vizualization, it was significantaly noted, that Decision Tree or Random Forest can perform best in this stage, so after training with the data, it is noted it almost give near 99.6% accuracy with Random Forest along with KNearest Neighbor.\n",
    "\n",
    "So model that can be used are:\n",
    "\n",
    "- K Nearest Neighbor\n",
    "- Random Forest"
   ]
  },
  {
   "attachments": {},
   "cell_type": "markdown",
   "metadata": {},
   "source": [
    "### 16. Model Deployment"
   ]
  },
  {
   "attachments": {},
   "cell_type": "markdown",
   "metadata": {},
   "source": [
    "Same code following same process will be deploy into production to making it using for all."
   ]
  }
 ],
 "metadata": {
  "kernelspec": {
   "display_name": "Python 3",
   "language": "python",
   "name": "python3"
  },
  "language_info": {
   "codemirror_mode": {
    "name": "ipython",
    "version": 3
   },
   "file_extension": ".py",
   "mimetype": "text/x-python",
   "name": "python",
   "nbconvert_exporter": "python",
   "pygments_lexer": "ipython3",
   "version": "3.9.0"
  },
  "orig_nbformat": 4
 },
 "nbformat": 4,
 "nbformat_minor": 2
}
