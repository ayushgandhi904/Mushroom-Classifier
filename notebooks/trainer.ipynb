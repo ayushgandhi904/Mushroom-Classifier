{
 "cells": [
  {
   "cell_type": "code",
   "execution_count": 2,
   "metadata": {},
   "outputs": [],
   "source": [
    "import numpy as np\n",
    "import pandas as pd\n",
    "from sklearn.model_selection import train_test_split\n",
    "from sklearn.decomposition import PCA\n",
    "from sklearn.preprocessing import LabelEncoder, OrdinalEncoder\n",
    "from sklearn.pipeline import Pipeline\n",
    "from sklearn.compose import ColumnTransformer"
   ]
  },
  {
   "cell_type": "code",
   "execution_count": 3,
   "metadata": {},
   "outputs": [],
   "source": [
    "df = pd.read_csv(\"data/mushrooms.csv\")"
   ]
  },
  {
   "cell_type": "code",
   "execution_count": 4,
   "metadata": {},
   "outputs": [],
   "source": [
    "df[\"class\"] = df[\"class\"].apply(lambda x: 1 if \"p\" else 0)"
   ]
  },
  {
   "cell_type": "code",
   "execution_count": 5,
   "metadata": {},
   "outputs": [],
   "source": [
    "train_set, test_set = train_test_split(df, test_size = 0.3, random_state = 10)"
   ]
  },
  {
   "cell_type": "code",
   "execution_count": 6,
   "metadata": {},
   "outputs": [
    {
     "data": {
      "text/plain": [
       "Index(['class', 'cap-shape', 'cap-surface', 'cap-color', 'bruises', 'odor',\n",
       "       'gill-attachment', 'gill-spacing', 'gill-size', 'gill-color',\n",
       "       'stalk-shape', 'stalk-root', 'stalk-surface-above-ring',\n",
       "       'stalk-surface-below-ring', 'stalk-color-above-ring',\n",
       "       'stalk-color-below-ring', 'veil-type', 'veil-color', 'ring-number',\n",
       "       'ring-type', 'spore-print-color', 'population', 'habitat'],\n",
       "      dtype='object')"
      ]
     },
     "execution_count": 6,
     "metadata": {},
     "output_type": "execute_result"
    }
   ],
   "source": [
    "df.columns"
   ]
  },
  {
   "cell_type": "code",
   "execution_count": 7,
   "metadata": {},
   "outputs": [],
   "source": [
    "lab_cols = ['cap-shape', 'cap-surface', 'cap-color', 'bruises', 'odor',\n",
    "       'gill-attachment', 'gill-spacing', 'gill-size', 'gill-color',\n",
    "       'stalk-shape', 'stalk-root', 'stalk-surface-above-ring',\n",
    "       'stalk-surface-below-ring', 'stalk-color-above-ring',\n",
    "       'stalk-color-below-ring', 'veil-type', 'veil-color', 'ring-number',\n",
    "       'ring-type', 'spore-print-color', 'population', 'habitat']"
   ]
  },
  {
   "cell_type": "code",
   "execution_count": 8,
   "metadata": {},
   "outputs": [],
   "source": [
    "#target pipeline\n",
    "\n",
    "target_pipeline = Pipeline(\n",
    "    steps=[\n",
    "        (\"ordinal_encoder\", OrdinalEncoder()),\n",
    "        (\"pca\", PCA(n_components=10))\n",
    "    ]\n",
    ")\n",
    "\n",
    "preprocessor = ColumnTransformer(\n",
    "    transformers=[\n",
    "        (\"lab_pipeline\", target_pipeline, lab_cols)\n",
    "    ]\n",
    ")\n"
   ]
  },
  {
   "cell_type": "code",
   "execution_count": 9,
   "metadata": {},
   "outputs": [],
   "source": [
    "target_column = \"class\""
   ]
  },
  {
   "cell_type": "code",
   "execution_count": 10,
   "metadata": {},
   "outputs": [],
   "source": [
    "drop_columns = [target_column]"
   ]
  },
  {
   "cell_type": "code",
   "execution_count": 11,
   "metadata": {},
   "outputs": [],
   "source": [
    "input_feature_train_df = train_set.drop(columns = drop_columns, axis = 1)\n",
    "target_feature_train_df = train_set[target_column]"
   ]
  },
  {
   "cell_type": "code",
   "execution_count": 12,
   "metadata": {},
   "outputs": [],
   "source": [
    "input_feature_test_df = test_set.drop(columns = drop_columns, axis = 1)\n",
    "target_feature_test_df = test_set[target_column]"
   ]
  },
  {
   "cell_type": "code",
   "execution_count": 15,
   "metadata": {},
   "outputs": [],
   "source": [
    "input_feature_train_arr = preprocessor.fit_transform(input_feature_train_df)\n",
    "input_feature_test_arr = preprocessor.transform(input_feature_test_df)"
   ]
  },
  {
   "cell_type": "code",
   "execution_count": 16,
   "metadata": {},
   "outputs": [],
   "source": [
    "train_arr = np.c_[input_feature_train_arr, np.array(target_feature_train_df)]\n",
    "test_arr = np.c_[input_feature_test_arr, np.array(target_feature_test_df)]\n"
   ]
  },
  {
   "cell_type": "code",
   "execution_count": 17,
   "metadata": {},
   "outputs": [
    {
     "data": {
      "text/plain": [
       "array([[ 6.40005874,  0.71737581,  0.77474753, ...,  0.25743174,\n",
       "        -0.21809242,  1.        ],\n",
       "       [-5.10338118, -3.87298142,  2.50305722, ..., -2.61325944,\n",
       "         1.13597538,  1.        ],\n",
       "       [-0.6933122 , -1.93861363,  0.13861589, ..., -0.42351017,\n",
       "         1.81023608,  1.        ],\n",
       "       ...,\n",
       "       [-0.45774016,  3.15935309,  5.95314147, ..., -2.49596369,\n",
       "        -1.61180861,  1.        ],\n",
       "       [-2.42778227, -5.5042774 , -2.17134532, ...,  0.64643389,\n",
       "         0.35123841,  1.        ],\n",
       "       [-0.55061669,  1.99372197, -3.88513224, ...,  0.87545126,\n",
       "        -1.54869207,  1.        ]])"
      ]
     },
     "execution_count": 17,
     "metadata": {},
     "output_type": "execute_result"
    }
   ],
   "source": [
    "train_arr"
   ]
  },
  {
   "cell_type": "code",
   "execution_count": 18,
   "metadata": {},
   "outputs": [
    {
     "data": {
      "text/plain": [
       "array([[-1.52960887,  3.01150973, -3.09623674, ..., -0.31633862,\n",
       "        -1.1045539 ,  1.        ],\n",
       "       [-2.11216056, -1.76907499, -2.01350501, ..., -1.23054355,\n",
       "         0.23710009,  1.        ],\n",
       "       [-0.62662671,  2.04344835, -2.98526961, ...,  0.34822784,\n",
       "        -1.26227765,  1.        ],\n",
       "       ...,\n",
       "       [ 2.27413708,  0.13396777, -1.67821525, ..., -0.66244189,\n",
       "         0.69143697,  1.        ],\n",
       "       [-0.97865513, -1.21011499,  4.3710846 , ..., -0.24964597,\n",
       "        -1.18054038,  1.        ],\n",
       "       [-5.75455549,  0.70522095, -4.61199863, ..., -0.07557396,\n",
       "        -0.0329173 ,  1.        ]])"
      ]
     },
     "execution_count": 18,
     "metadata": {},
     "output_type": "execute_result"
    }
   ],
   "source": [
    "test_arr"
   ]
  },
  {
   "cell_type": "code",
   "execution_count": null,
   "metadata": {},
   "outputs": [],
   "source": []
  }
 ],
 "metadata": {
  "kernelspec": {
   "display_name": "Python 3",
   "language": "python",
   "name": "python3"
  },
  "language_info": {
   "codemirror_mode": {
    "name": "ipython",
    "version": 3
   },
   "file_extension": ".py",
   "mimetype": "text/x-python",
   "name": "python",
   "nbconvert_exporter": "python",
   "pygments_lexer": "ipython3",
   "version": "3.9.0"
  },
  "orig_nbformat": 4
 },
 "nbformat": 4,
 "nbformat_minor": 2
}
