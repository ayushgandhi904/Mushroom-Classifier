{
 "cells": [
  {
   "cell_type": "code",
   "execution_count": 1,
   "metadata": {},
   "outputs": [],
   "source": [
    "import numpy as np\n",
    "import pandas as pd\n",
    "from sklearn.model_selection import train_test_split\n",
    "from sklearn.decomposition import PCA\n",
    "from sklearn.preprocessing import LabelEncoder, OrdinalEncoder\n",
    "from sklearn.pipeline import Pipeline\n",
    "from sklearn.compose import ColumnTransformer"
   ]
  },
  {
   "cell_type": "code",
   "execution_count": 2,
   "metadata": {},
   "outputs": [],
   "source": [
    "df = pd.read_csv(\"data/mushrooms.csv\")"
   ]
  },
  {
   "cell_type": "code",
   "execution_count": 3,
   "metadata": {},
   "outputs": [],
   "source": [
    "# mapping = {\"p\": 1, \"e\": 0}\n",
    "# df[\"class\"] = df[\"class\"].apply(lambda x: mapping[x])\n",
    "\n",
    "df[\"class\"] = df[\"class\"].apply(lambda x: {\"p\" : 1, \"e\": 0}[x])"
   ]
  },
  {
   "cell_type": "code",
   "execution_count": 5,
   "metadata": {},
   "outputs": [
    {
     "data": {
      "text/plain": [
       "0       1\n",
       "1       0\n",
       "2       0\n",
       "3       1\n",
       "4       0\n",
       "       ..\n",
       "8119    0\n",
       "8120    0\n",
       "8121    0\n",
       "8122    1\n",
       "8123    0\n",
       "Name: class, Length: 8124, dtype: int64"
      ]
     },
     "execution_count": 5,
     "metadata": {},
     "output_type": "execute_result"
    }
   ],
   "source": [
    "df[\"class\"]\n"
   ]
  },
  {
   "cell_type": "code",
   "execution_count": 6,
   "metadata": {},
   "outputs": [],
   "source": [
    "train_set, test_set = train_test_split(df, test_size = 0.3, random_state = 10)"
   ]
  },
  {
   "cell_type": "code",
   "execution_count": 7,
   "metadata": {},
   "outputs": [
    {
     "data": {
      "text/plain": [
       "Index(['class', 'cap-shape', 'cap-surface', 'cap-color', 'bruises', 'odor',\n",
       "       'gill-attachment', 'gill-spacing', 'gill-size', 'gill-color',\n",
       "       'stalk-shape', 'stalk-root', 'stalk-surface-above-ring',\n",
       "       'stalk-surface-below-ring', 'stalk-color-above-ring',\n",
       "       'stalk-color-below-ring', 'veil-type', 'veil-color', 'ring-number',\n",
       "       'ring-type', 'spore-print-color', 'population', 'habitat'],\n",
       "      dtype='object')"
      ]
     },
     "execution_count": 7,
     "metadata": {},
     "output_type": "execute_result"
    }
   ],
   "source": [
    "df.columns"
   ]
  },
  {
   "cell_type": "code",
   "execution_count": 8,
   "metadata": {},
   "outputs": [],
   "source": [
    "lab_cols = ['cap-shape', 'cap-surface', 'cap-color', 'bruises', 'odor',\n",
    "       'gill-attachment', 'gill-spacing', 'gill-size', 'gill-color',\n",
    "       'stalk-shape', 'stalk-root', 'stalk-surface-above-ring',\n",
    "       'stalk-surface-below-ring', 'stalk-color-above-ring',\n",
    "       'stalk-color-below-ring', 'veil-type', 'veil-color', 'ring-number',\n",
    "       'ring-type', 'spore-print-color', 'population', 'habitat']"
   ]
  },
  {
   "cell_type": "code",
   "execution_count": 9,
   "metadata": {},
   "outputs": [],
   "source": [
    "#target pipeline\n",
    "\n",
    "target_pipeline = Pipeline(\n",
    "    steps=[\n",
    "        (\"ordinal_encoder\", OrdinalEncoder()),\n",
    "        (\"pca\", PCA(n_components=10))\n",
    "    ]\n",
    ")\n",
    "\n",
    "preprocessor = ColumnTransformer(\n",
    "    transformers=[\n",
    "        (\"lab_pipeline\", target_pipeline, lab_cols)\n",
    "    ]\n",
    ")\n"
   ]
  },
  {
   "cell_type": "code",
   "execution_count": 10,
   "metadata": {},
   "outputs": [],
   "source": [
    "target_column = \"class\""
   ]
  },
  {
   "cell_type": "code",
   "execution_count": 11,
   "metadata": {},
   "outputs": [],
   "source": [
    "drop_columns = [target_column]"
   ]
  },
  {
   "cell_type": "code",
   "execution_count": 12,
   "metadata": {},
   "outputs": [],
   "source": [
    "input_feature_train_df = train_set.drop(columns = drop_columns, axis = 1)\n",
    "target_feature_train_df = train_set[target_column]"
   ]
  },
  {
   "cell_type": "code",
   "execution_count": 13,
   "metadata": {},
   "outputs": [],
   "source": [
    "input_feature_test_df = test_set.drop(columns = drop_columns, axis = 1)\n",
    "target_feature_test_df = test_set[target_column]"
   ]
  },
  {
   "cell_type": "code",
   "execution_count": 14,
   "metadata": {},
   "outputs": [],
   "source": [
    "input_feature_train_arr = preprocessor.fit_transform(input_feature_train_df)\n",
    "input_feature_test_arr = preprocessor.transform(input_feature_test_df)"
   ]
  },
  {
   "cell_type": "code",
   "execution_count": 15,
   "metadata": {},
   "outputs": [],
   "source": [
    "train_arr = np.c_[input_feature_train_arr, np.array(target_feature_train_df)]\n",
    "test_arr = np.c_[input_feature_test_arr, np.array(target_feature_test_df)]\n"
   ]
  },
  {
   "cell_type": "code",
   "execution_count": 16,
   "metadata": {},
   "outputs": [
    {
     "data": {
      "text/plain": [
       "array([[ 6.40005874,  0.71737581,  0.77474753, ..., -0.85749707,\n",
       "         0.25743174, -0.21809242],\n",
       "       [-5.10338118, -3.87298142,  2.50305722, ..., -0.93225889,\n",
       "        -2.61325944,  1.13597538],\n",
       "       [-0.6933122 , -1.93861363,  0.13861589, ...,  0.98916004,\n",
       "        -0.42351017,  1.81023608],\n",
       "       ...,\n",
       "       [-0.45774016,  3.15935309,  5.95314147, ..., -1.3060209 ,\n",
       "        -2.49596369, -1.61180861],\n",
       "       [-2.42778227, -5.5042774 , -2.17134532, ..., -1.26049523,\n",
       "         0.64643389,  0.35123841],\n",
       "       [-0.55061669,  1.99372197, -3.88513224, ..., -1.92486099,\n",
       "         0.87545126, -1.54869207]])"
      ]
     },
     "execution_count": 16,
     "metadata": {},
     "output_type": "execute_result"
    }
   ],
   "source": [
    "input_feature_train_arr"
   ]
  },
  {
   "cell_type": "code",
   "execution_count": 17,
   "metadata": {},
   "outputs": [
    {
     "data": {
      "text/plain": [
       "6506    1\n",
       "2314    0\n",
       "2898    0\n",
       "1178    0\n",
       "2341    0\n",
       "       ..\n",
       "3441    1\n",
       "1344    0\n",
       "4623    1\n",
       "7293    0\n",
       "1289    0\n",
       "Name: class, Length: 5686, dtype: int64"
      ]
     },
     "execution_count": 17,
     "metadata": {},
     "output_type": "execute_result"
    }
   ],
   "source": [
    "target_feature_train_df"
   ]
  },
  {
   "cell_type": "code",
   "execution_count": 18,
   "metadata": {},
   "outputs": [
    {
     "data": {
      "text/plain": [
       "array([[ 6.40005874,  0.71737581,  0.77474753, ...,  0.25743174,\n",
       "        -0.21809242,  1.        ],\n",
       "       [-5.10338118, -3.87298142,  2.50305722, ..., -2.61325944,\n",
       "         1.13597538,  0.        ],\n",
       "       [-0.6933122 , -1.93861363,  0.13861589, ..., -0.42351017,\n",
       "         1.81023608,  0.        ],\n",
       "       ...,\n",
       "       [-0.45774016,  3.15935309,  5.95314147, ..., -2.49596369,\n",
       "        -1.61180861,  1.        ],\n",
       "       [-2.42778227, -5.5042774 , -2.17134532, ...,  0.64643389,\n",
       "         0.35123841,  0.        ],\n",
       "       [-0.55061669,  1.99372197, -3.88513224, ...,  0.87545126,\n",
       "        -1.54869207,  0.        ]])"
      ]
     },
     "execution_count": 18,
     "metadata": {},
     "output_type": "execute_result"
    }
   ],
   "source": [
    "train_arr"
   ]
  },
  {
   "cell_type": "code",
   "execution_count": 19,
   "metadata": {},
   "outputs": [
    {
     "data": {
      "text/plain": [
       "array([[-1.52960887,  3.01150973, -3.09623674, ..., -0.31633862,\n",
       "        -1.1045539 ,  0.        ],\n",
       "       [-2.11216056, -1.76907499, -2.01350501, ..., -1.23054355,\n",
       "         0.23710009,  1.        ],\n",
       "       [-0.62662671,  2.04344835, -2.98526961, ...,  0.34822784,\n",
       "        -1.26227765,  0.        ],\n",
       "       ...,\n",
       "       [ 2.27413708,  0.13396777, -1.67821525, ..., -0.66244189,\n",
       "         0.69143697,  1.        ],\n",
       "       [-0.97865513, -1.21011499,  4.3710846 , ..., -0.24964597,\n",
       "        -1.18054038,  0.        ],\n",
       "       [-5.75455549,  0.70522095, -4.61199863, ..., -0.07557396,\n",
       "        -0.0329173 ,  0.        ]])"
      ]
     },
     "execution_count": 19,
     "metadata": {},
     "output_type": "execute_result"
    }
   ],
   "source": [
    "test_arr"
   ]
  },
  {
   "cell_type": "code",
   "execution_count": 20,
   "metadata": {},
   "outputs": [],
   "source": [
    "from sklearn.metrics import accuracy_score"
   ]
  },
  {
   "cell_type": "code",
   "execution_count": 21,
   "metadata": {},
   "outputs": [],
   "source": [
    "def evaluate_model(X_train, y_train, X_test, y_test, models):\n",
    "    report = {}\n",
    "    \n",
    "    for i in range(len(models)):\n",
    "        model = list(models.values())[i]\n",
    "            \n",
    "        model.fit(X_train, y_train)\n",
    "            \n",
    "            #Predicting value\n",
    "        y_test_pred = model.predict(X_test)\n",
    "            \n",
    "            #getting accuracy score\n",
    "        test_model_score = accuracy_score(y_test, y_test_pred)\n",
    "            \n",
    "        report[list(models.keys())[i]] = test_model_score\n",
    "                \n",
    "    return report"
   ]
  },
  {
   "cell_type": "code",
   "execution_count": 22,
   "metadata": {},
   "outputs": [],
   "source": [
    "from sklearn.linear_model import LogisticRegression\n",
    "from sklearn.linear_model import LogisticRegressionCV\n",
    "from sklearn.neighbors import KNeighborsClassifier\n",
    "from sklearn.tree import DecisionTreeClassifier\n",
    "from sklearn.svm import SVC\n",
    "from sklearn.ensemble import RandomForestClassifier, GradientBoostingClassifier\n",
    "import logging"
   ]
  },
  {
   "cell_type": "code",
   "execution_count": 23,
   "metadata": {},
   "outputs": [],
   "source": [
    "def initiate_model_training(self, train_array, test_array):\n",
    "\n",
    "        logging.info(\"Splitting dependent & Independent data from train & test data\")\n",
    "        X_train, y_train, X_test, y_test = (\n",
    "            train_array[:,:-1],\n",
    "            train_array[:, -1],\n",
    "            test_array[:, :-1],\n",
    "            test_array[:, -1]\n",
    "        )\n",
    "            \n",
    "        models = {\n",
    "            \"LogisticRegression\" : LogisticRegression(),\n",
    "            \"LogisticRegressionCV\" : LogisticRegressionCV(),\n",
    "            \"KNN\" : KNeighborsClassifier(),\n",
    "            \"Decision Tree\" : DecisionTreeClassifier(),\n",
    "            \"SVC\" : SVC(),\n",
    "            \"RandomForest\" : RandomForestClassifier(),\n",
    "            \"GradientBoosting\" : GradientBoostingClassifier()\n",
    "                \n",
    "        }\n",
    "            \n",
    "        model_report:dict=evaluate_model(X_train, y_train, X_test, y_test, models)\n",
    "        print(model_report)\n",
    "            \n",
    "        print(\"\\n**********\")\n",
    "        logging.info(f\"Model Report : {model_report}\")\n",
    "            \n",
    "            #to get best score & model\n",
    "        best_model_score = max(sorted(model_report.values()))\n",
    "            \n",
    "        best_model_name = list(model_report.keys())[\n",
    "            list(model_report.values()).index(best_model_score)\n",
    "        ]\n",
    "            \n",
    "        best_model = models[best_model_name]\n",
    "        print(f\"Best Model is {best_model_name} with accuracy : {best_model_score}\")\n",
    "        print(\"\\n*****\")"
   ]
  },
  {
   "cell_type": "code",
   "execution_count": 24,
   "metadata": {},
   "outputs": [],
   "source": [
    "import os, sys\n",
    "from dataclasses import dataclass"
   ]
  },
  {
   "cell_type": "code",
   "execution_count": 25,
   "metadata": {},
   "outputs": [],
   "source": [
    "@dataclass\n",
    "class ModelTrainerConfig:\n",
    "    trained_model_file_path = os.path.join(\"artifacts\", \"model.pkl\")\n",
    "    \n",
    "    \n",
    "class ModelTrainer:\n",
    "    def __init__(self):\n",
    "        self.model_trainer_config = ModelTrainerConfig()\n",
    "        \n",
    "    def initiate_model_training(train_array, test_array):\n",
    "        \n",
    "        try:\n",
    "            logging.info(\"Splitting dependent & Independent data from train & test data\")\n",
    "            X_train, y_train, X_test, y_test = (\n",
    "                train_array[:,:-1],\n",
    "                train_array[:, -1],\n",
    "                test_array[:, :-1],\n",
    "                test_array[:, -1]\n",
    "            )\n",
    "            \n",
    "            models = {\n",
    "                \"LogisticRegression\" : LogisticRegression(),\n",
    "                \"LogisticRegressionCV\" : LogisticRegressionCV(),\n",
    "                \"KNN\" : KNeighborsClassifier(),\n",
    "                \"Decision Tree\" : DecisionTreeClassifier(),\n",
    "                \"SVC\" : SVC(),\n",
    "                \"RandomForest\" : RandomForestClassifier(),\n",
    "                \"GradientBoosting\" : GradientBoostingClassifier()\n",
    "                \n",
    "            }\n",
    "            \n",
    "            model_report:dict=evaluate_model(X_train, y_train, X_test, y_test, models)\n",
    "            print(model_report)\n",
    "            \n",
    "            print(\"\\n**********\")\n",
    "            logging.info(f\"Model Report : {model_report}\")\n",
    "            \n",
    "            #to get best score & model\n",
    "            best_model_score = max(sorted(model_report.values()))\n",
    "            \n",
    "            best_model_name = list(model_report.keys())[\n",
    "                list(model_report.values()).index(best_model_score)\n",
    "            ]\n",
    "            \n",
    "            best_model = models[best_model_name]\n",
    "            print(f\"Best Model is {best_model_name} with accuracy : {best_model_score}\")\n",
    "            print(\"\\n*****\")\n",
    "            \n",
    "            logging.info(f\"Best Model is {best_model_name} with accuracy : {best_model_score}\")\n",
    "            \n",
    "        except Exception as e:\n",
    "            logging.info(\"Exception occur at Model Training\")\n",
    "            print(f\"{e}\")"
   ]
  },
  {
   "cell_type": "code",
   "execution_count": null,
   "metadata": {},
   "outputs": [],
   "source": []
  },
  {
   "cell_type": "code",
   "execution_count": null,
   "metadata": {},
   "outputs": [],
   "source": []
  },
  {
   "cell_type": "code",
   "execution_count": null,
   "metadata": {},
   "outputs": [],
   "source": []
  },
  {
   "cell_type": "code",
   "execution_count": 26,
   "metadata": {},
   "outputs": [
    {
     "name": "stdout",
     "output_type": "stream",
     "text": [
      "{'LogisticRegression': 0.8240360951599672, 'LogisticRegressionCV': 0.8232157506152584, 'KNN': 0.9844134536505332, 'Decision Tree': 0.9848236259228876, 'SVC': 0.9827727645611156, 'RandomForest': 0.994667760459393, 'GradientBoosting': 0.9552912223133716}\n",
      "\n",
      "**********\n",
      "Best Model is RandomForest with accuracy : 0.994667760459393\n",
      "\n",
      "*****\n"
     ]
    }
   ],
   "source": [
    "ModelTrainer.initiate_model_training(train_arr,test_arr)"
   ]
  },
  {
   "cell_type": "code",
   "execution_count": null,
   "metadata": {},
   "outputs": [],
   "source": []
  }
 ],
 "metadata": {
  "kernelspec": {
   "display_name": "Python 3",
   "language": "python",
   "name": "python3"
  },
  "language_info": {
   "codemirror_mode": {
    "name": "ipython",
    "version": 3
   },
   "file_extension": ".py",
   "mimetype": "text/x-python",
   "name": "python",
   "nbconvert_exporter": "python",
   "pygments_lexer": "ipython3",
   "version": "-1.-1.-1"
  },
  "orig_nbformat": 4
 },
 "nbformat": 4,
 "nbformat_minor": 2
}
